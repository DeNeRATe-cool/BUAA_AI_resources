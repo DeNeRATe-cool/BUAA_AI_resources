{
 "cells": [
  {
   "cell_type": "markdown",
   "metadata": {},
   "source": [
    "## 1.实验教程\n",
    "第一部分仅作为实验教程，同学们可以直接运行，用于快速熟悉实验环境和基本操作。"
   ]
  },
  {
   "cell_type": "markdown",
   "metadata": {},
   "source": [
    "### 1.1 实验背景介绍\n",
    "LeNet5 + MNIST 被誉为深度学习领域的 “Hello world”。本教程主要介绍使用 paddlepaddle 在 MNIST 手写数字数据集上开发和训练一个 LeNet5 模型，并验证模型精度。\n",
    "通过以上学习，使用 paddlepaddle 深度学习框架完成对10种动物进行分类。"
   ]
  },
  {
   "cell_type": "markdown",
   "metadata": {},
   "source": [
    "### 1.2  实验示例：手写数字识别\n",
    "\n",
    "\n",
    "![](https://ai-studio-static-online.cdn.bcebos.com/4c7206c4ba444963981b43118627fcbf1e67f94840d144bfb7b00265cf63dcfd)"
   ]
  },
  {
   "cell_type": "code",
   "execution_count": 1,
   "metadata": {
    "ExecuteTime": {
     "end_time": "2025-04-07T04:19:40.400114Z",
     "start_time": "2025-04-07T04:19:39.069793Z"
    },
    "collapsed": false,
    "execution": {
     "iopub.execute_input": "2024-04-12T06:16:16.408130Z",
     "iopub.status.busy": "2024-04-12T06:16:16.407471Z",
     "iopub.status.idle": "2024-04-12T06:16:18.821333Z",
     "shell.execute_reply": "2024-04-12T06:16:18.820055Z",
     "shell.execute_reply.started": "2024-04-12T06:16:16.408095Z"
    },
    "jupyter": {
     "outputs_hidden": false
    },
    "scrolled": true,
    "tags": []
   },
   "outputs": [
    {
     "name": "stdout",
     "output_type": "stream",
     "text": [
      "本教程基于Paddle的版本号为:2.6.2\n"
     ]
    }
   ],
   "source": [
    "#导入需要的包\n",
    "import numpy as np\n",
    "import paddle as paddle\n",
    "from PIL import Image\n",
    "import matplotlib.pyplot as plt\n",
    "import os\n",
    "print(\"本教程基于Paddle的版本号为:\"+paddle.__version__)"
   ]
  },
  {
   "cell_type": "markdown",
   "metadata": {},
   "source": [
    "#### **Step1：准备数据。**\n",
    "\n",
    "(1)数据集介绍\n",
    "\n",
    "MNIST数据集包含60000个训练集和10000测试数据集。分为图片和标签，图片是28*28的像素矩阵，标签为0~9共10个数字。\n",
    "\n",
    "![](https://ai-studio-static-online.cdn.bcebos.com/fc73217ae57f451a89badc801a903bb742e42eabd9434ecc8089efe19a66c076)\n",
    "\n",
    "(2)transform函数是定义了一个归一化标准化的标准\n",
    "\n",
    "(3)train_dataset和test_dataset\n",
    "\n",
    "- paddle.vision.datasets.MNIST()中的mode='train'和mode='test'分别用于获取mnist训练集和测试集\n",
    "\n",
    "- transform=transform参数则为归一化标准\n"
   ]
  },
  {
   "cell_type": "code",
   "execution_count": 2,
   "metadata": {
    "ExecuteTime": {
     "end_time": "2025-04-07T04:19:42.762559Z",
     "start_time": "2025-04-07T04:19:40.478314Z"
    },
    "collapsed": false,
    "execution": {
     "iopub.execute_input": "2024-04-12T06:16:24.550063Z",
     "iopub.status.busy": "2024-04-12T06:16:24.549053Z",
     "iopub.status.idle": "2024-04-12T06:16:30.089874Z",
     "shell.execute_reply": "2024-04-12T06:16:30.088753Z",
     "shell.execute_reply.started": "2024-04-12T06:16:24.550017Z"
    },
    "jupyter": {
     "outputs_hidden": false
    },
    "scrolled": true,
    "tags": []
   },
   "outputs": [
    {
     "name": "stdout",
     "output_type": "stream",
     "text": [
      "下载并加载训练数据\n",
      "加载完成\n"
     ]
    }
   ],
   "source": [
    "# 导入数据集Compose的作用是将用于数据集预处理的接口以列表的方式进行组合。\n",
    "# 导入数据集Normalize的作用是图像归一化处理，支持两种方式： 1. 用统一的均值和标准差值对图像的每个通道进行归一化处理； 2. 对每个通道指定不同的均值和标准差值进行归一化处理。\n",
    "from paddle.vision.transforms import Compose, Normalize\n",
    "transform = Compose([Normalize(mean=[127.5],std=[127.5],data_format='CHW')])\n",
    "# 使用transform对数据集做归一化\n",
    "print('下载并加载训练数据')\n",
    "train_dataset = paddle.vision.datasets.MNIST(mode='train', transform=transform)\n",
    "test_dataset = paddle.vision.datasets.MNIST(mode='test', transform=transform)\n",
    "print('加载完成')"
   ]
  },
  {
   "cell_type": "code",
   "execution_count": 3,
   "metadata": {
    "ExecuteTime": {
     "end_time": "2025-04-07T04:19:42.887566Z",
     "start_time": "2025-04-07T04:19:42.794918Z"
    },
    "collapsed": false,
    "execution": {
     "iopub.execute_input": "2024-04-12T06:16:47.716276Z",
     "iopub.status.busy": "2024-04-12T06:16:47.715010Z",
     "iopub.status.idle": "2024-04-12T06:16:48.156466Z",
     "shell.execute_reply": "2024-04-12T06:16:48.155343Z",
     "shell.execute_reply.started": "2024-04-12T06:16:47.716237Z"
    },
    "jupyter": {
     "outputs_hidden": false
    },
    "scrolled": true
   },
   "outputs": [
    {
     "name": "stdout",
     "output_type": "stream",
     "text": [
      "AxesImage(size=(28, 28))\n",
      "train_data0 的标签为: [5]\n"
     ]
    },
    {
     "data": {
      "image/png": "[encoded data removed]",
      "text/plain": [
       "<Figure size 200x200 with 1 Axes>"
      ]
     },
     "metadata": {},
     "output_type": "display_data"
    }
   ],
   "source": [
    "#看看数据集中的图片是什么样子的\n",
    "train_data0, train_label_0 = train_dataset[0][0],train_dataset[0][1]\n",
    "train_data0 = train_data0.reshape([28,28])\n",
    "plt.figure(figsize=(2,2))\n",
    "print(plt.imshow(train_data0, cmap=plt.cm.binary))\n",
    "print('train_data0 的标签为: ' + str(train_label_0))"
   ]
  },
  {
   "cell_type": "markdown",
   "metadata": {},
   "source": [
    "#### **Step2.网络配置**\n",
    "以下的代码定义一个简单的多层感知器，一共有三层，两个shape为[100,100]的隐藏层和shape为[100,10]的输出层，因为MNIST数据集是手写0到9的灰度图像，类别有10个，所以最后的输出维度是10。激活函数是Softmax。\n",
    "\n",
    "多层感知器的结构是：输入层-->>隐藏层-->>隐藏层-->>输出层。\n",
    "\n",
    "![](https://ai-studio-static-online.cdn.bcebos.com/cb69f928778c4299b75814179607a89eea770bdc409d4e08a87e2975cb96b19b)"
   ]
  },
  {
   "cell_type": "code",
   "execution_count": 4,
   "metadata": {
    "ExecuteTime": {
     "end_time": "2025-04-07T04:19:42.918687Z",
     "start_time": "2025-04-07T04:19:42.905811Z"
    },
    "collapsed": false,
    "execution": {
     "iopub.execute_input": "2024-04-12T06:19:45.632780Z",
     "iopub.status.busy": "2024-04-12T06:19:45.631950Z",
     "iopub.status.idle": "2024-04-12T06:19:45.639747Z",
     "shell.execute_reply": "2024-04-12T06:19:45.638856Z",
     "shell.execute_reply.started": "2024-04-12T06:19:45.632730Z"
    },
    "jupyter": {
     "outputs_hidden": false
    },
    "scrolled": true,
    "tags": []
   },
   "outputs": [],
   "source": [
    "# 定义多层感知器\n",
    "# 动态图定义多层感知器\n",
    "class mnist(paddle.nn.Layer):\n",
    "    def __init__(self):\n",
    "        super(mnist,self).__init__()\n",
    "        self.fc1 = paddle.nn.Linear(in_features=28*28, out_features=100)\n",
    "        self.fc2 = paddle.nn.Linear(in_features=100, out_features=100)\n",
    "        self.fc3 = paddle.nn.Linear(in_features=100, out_features=10)\n",
    "\n",
    "    def forward(self, input_):\n",
    "        x = paddle.reshape(input_, [input_.shape[0], -1])\n",
    "        x = paddle.nn.functional.relu(self.fc1(x))\n",
    "        x = paddle.nn.functional.relu(self.fc2(x))\n",
    "        y = paddle.nn.functional.softmax(self.fc3(x))\n",
    "        return y"
   ]
  },
  {
   "cell_type": "code",
   "execution_count": 5,
   "metadata": {
    "ExecuteTime": {
     "end_time": "2025-04-07T04:19:54.710747Z",
     "start_time": "2025-04-07T04:19:42.935213Z"
    },
    "collapsed": false,
    "execution": {
     "iopub.execute_input": "2024-04-12T06:19:48.694808Z",
     "iopub.status.busy": "2024-04-12T06:19:48.694103Z",
     "iopub.status.idle": "2024-04-12T06:20:14.089755Z",
     "shell.execute_reply": "2024-04-12T06:20:14.087714Z",
     "shell.execute_reply.started": "2024-04-12T06:19:48.694772Z"
    },
    "jupyter": {
     "outputs_hidden": false
    },
    "scrolled": true,
    "tags": []
   },
   "outputs": [
    {
     "name": "stdout",
     "output_type": "stream",
     "text": [
      "The loss value printed in the log is the current step, and the metric is the average value of previous steps.\n",
      "Epoch 1/2\n",
      "step 938/938 [==============================] - loss: 1.5131 - acc: 0.8523 - 6ms/step          \n",
      "save checkpoint at E:\\Download\\AllDownload\\人工智能实验\\multilayer_perceptron\\0\n",
      "Eval begin...\n",
      "step 157/157 [==============================] - loss: 1.5184 - acc: 0.9143 - 4ms/step          \n",
      "Eval samples: 10000\n",
      "Epoch 2/2\n",
      "step 938/938 [==============================] - loss: 1.5233 - acc: 0.9274 - 5ms/step          \n",
      "save checkpoint at E:\\Download\\AllDownload\\人工智能实验\\multilayer_perceptron\\1\n",
      "Eval begin...\n",
      "step 157/157 [==============================] - loss: 1.4985 - acc: 0.9341 - 4ms/step          \n",
      "Eval samples: 10000\n",
      "save checkpoint at E:\\Download\\AllDownload\\人工智能实验\\multilayer_perceptron\\final\n"
     ]
    }
   ],
   "source": [
    "from paddle.metric import Accuracy\n",
    "\n",
    "# 用Model封装模型\n",
    "model = paddle.Model(mnist())\n",
    "\n",
    "# 定义损失函数\n",
    "optim = paddle.optimizer.Adam(learning_rate=0.001, parameters=model.parameters())\n",
    "\n",
    "# 配置模型\n",
    "model.prepare(optim,paddle.nn.CrossEntropyLoss(),Accuracy())\n",
    "\n",
    "# 训练保存并验证模型\n",
    "model.fit(train_dataset,test_dataset,epochs=2,batch_size=64,save_dir='multilayer_perceptron',verbose=1)"
   ]
  },
  {
   "cell_type": "markdown",
   "metadata": {},
   "source": [
    " #### **Step3.模型训练及评估**"
   ]
  },
  {
   "cell_type": "code",
   "execution_count": 6,
   "metadata": {
    "ExecuteTime": {
     "end_time": "2025-04-07T04:20:04.791696Z",
     "start_time": "2025-04-07T04:19:54.727753Z"
    },
    "collapsed": false,
    "execution": {
     "iopub.execute_input": "2024-04-12T06:21:07.369439Z",
     "iopub.status.busy": "2024-04-12T06:21:07.368205Z",
     "iopub.status.idle": "2024-04-12T06:21:27.784943Z",
     "shell.execute_reply": "2024-04-12T06:21:27.784002Z",
     "shell.execute_reply.started": "2024-04-12T06:21:07.369387Z"
    },
    "jupyter": {
     "outputs_hidden": false
    },
    "scrolled": true
   },
   "outputs": [
    {
     "name": "stdout",
     "output_type": "stream",
     "text": [
      "AxesImage(size=(28, 28))\n",
      "test_data0 的标签为: [7]\n",
      "Predict begin...\n",
      "step 10000/10000 [==============================] - 999us/step          \n",
      "Predict samples: 10000\n",
      "test_data0 预测的数值为：7\n"
     ]
    },
    {
     "data": {
      "image/png": "[encoded data removed]",
      "text/plain": [
       "<Figure size 200x200 with 1 Axes>"
      ]
     },
     "metadata": {},
     "output_type": "display_data"
    }
   ],
   "source": [
    "#获取测试集的第一个图片\n",
    "test_data0, test_label_0 = test_dataset[0][0],test_dataset[0][1]\n",
    "test_data0 = test_data0.reshape([28,28])\n",
    "plt.figure(figsize=(2,2))\n",
    "#展示测试集中的第一个图片\n",
    "print(plt.imshow(test_data0, cmap=plt.cm.binary))\n",
    "print('test_data0 的标签为: ' + str(test_label_0))\n",
    "#模型预测\n",
    "result = model.predict(test_dataset, batch_size=1)\n",
    "#打印模型预测的结果\n",
    "print('test_data0 预测的数值为：%d' % np.argsort(result[0][0])[0][-1])"
   ]
  },
  {
   "cell_type": "markdown",
   "metadata": {},
   "source": [
    "以上部分仅为教程, 如果运行，那么可以在运行完之后删除multilayer_perceptron文件夹"
   ]
  },
  {
   "cell_type": "markdown",
   "metadata": {},
   "source": [
    "## 2  实验介绍\n",
    "下面是本次实验要完成的任务。"
   ]
  },
  {
   "cell_type": "markdown",
   "metadata": {},
   "source": [
    "### 2.1 任务介绍：动物识别\n",
    "\n",
    "完成动物分类任务，将根据任务完成的情况给分。\\\n",
    "助教已经构建好了一个简单的卷积神经网络和训练流程，这是代码中已经实现的部分，你可以在这基础上进行改进。\\"
   ]
  },
  {
   "cell_type": "markdown",
   "metadata": {},
   "source": [
    "以下是对于改进的一些提示：\n",
    "\n",
    "1.采用数据增强，对输入图片进行裁剪或者旋转等来提高性能。\\\n",
    "\\\n",
    "2.改变网络结构，比如增加卷积层数，或使用vgg等复杂网络的结构。\\\n",
    "(注意：不要采用任何的预训练模型，并且复杂的网络有过拟合的风险。当网络结构变化时，超参有可能需要重新调整)\\\n",
    "\\\n",
    "3.可自由发挥，提示 : 引入半监督（伪标签）、vision transformer(VIT)等。\n",
    "\n",
    "数据集work/data/animal1/semi/目录下是无标签的数据，可利用其产生伪标签从而完成自监督。\\\n",
    "半监督参考资料：\\\n",
    "https://www.bilibili.com/video/BV1Ht411g7Ef?p=23 \\\n",
    "https://speech.ee.ntu.edu.tw/~tlkagk/courses/ML_2016/Lecture/semi%20(v3).pdf \\\n",
    "vision transformer资料：\\\n",
    "https://aistudio.baidu.com/aistudio/projectdetail/1469534 \\\n",
    "https://zhuanlan.zhihu.com/p/370979971 \\\n",
    "鼓励同学们自由发挥，助教给分会更多考虑代码逻辑和完整性。\n"
   ]
  },
  {
   "cell_type": "markdown",
   "metadata": {},
   "source": [
    "### 2.2 实验介绍：\n",
    "给出的基础代码中实现了对于输入的图片采用卷积神经网络提取特征，再经过全连接后实现图片分类。如下图所示。\n",
    "![](cnn.png)\n",
    "\n"
   ]
  },
  {
   "cell_type": "markdown",
   "metadata": {},
   "source": [
    "### 2.3  实验要求\n",
    "机器学习一般可以概括为：从数据出发，选择某种模型，通过优化算法更新模型的参数值，使任务的指标表现变好（学习目标），最终学习到“好”的模型，并运用模型对数据做预测以完成任务。由此可见，机器学习方法有四个要素：数据、模型、学习目标、优化算法。本次实验要求熟悉深度学习的一般过程，可搭建简单的神经网络，对数据进行增强以提升分类效果。"
   ]
  },
  {
   "cell_type": "markdown",
   "metadata": {},
   "source": [
    "### 2.4 实验环境\n",
    "飞桨平台基于paddle2.0.2，Python=3.7 \\\n",
    "提供的本地代码基于paddle2.6.2，Python=3.8"
   ]
  },
  {
   "cell_type": "markdown",
   "metadata": {},
   "source": [
    "## 3 实验内容"
   ]
  },
  {
   "cell_type": "markdown",
   "metadata": {},
   "source": [
    "### 3.1 准备数据集\n",
    "训练前需要先解压数据文件，并删除一些.zip文件。如果提示文件夹不存在，则建立相应目录再执行命令。\n",
    "* 训练集\n",
    "* 验证集\n",
    "* 公开测试集\n",
    "* 私有测试集（无标注）\n",
    "* semi数据集（用于半监督，无标注）\n",
    "\n",
    "\n",
    "对于训练集、验证集和测试集，图片所属于的文件夹就是图像的标签。\\\n",
    "你可以自行使用验证集和公开测试集来检验自己模型的效果，助教保留了私有测试集的标注来评估模型。你的模型需要在私有测试集上进行预测，并将预测结果输出到csv文件中，我们将根据预测结果对提交的模型效果进行评分。\n"
   ]
  },
  {
   "cell_type": "code",
   "execution_count": 7,
   "metadata": {
    "ExecuteTime": {
     "end_time": "2025-04-07T04:20:04.823385Z",
     "start_time": "2025-04-07T04:20:04.809385Z"
    },
    "collapsed": false,
    "jupyter": {
     "outputs_hidden": false
    },
    "scrolled": true,
    "tags": []
   },
   "outputs": [],
   "source": [
    "#如果提示文件夹不存在，则在work下新建work/data/animal后再解压\n",
    "import os\n",
    "\n",
    "if not os.path.exists('work/data/animal'):\n",
    "    os.makedirs('work/data/animal')\n",
    "    !unzip data/data324341/animal.zip -d work/data/animal/"
   ]
  },
  {
   "cell_type": "markdown",
   "metadata": {},
   "source": [
    "### 3.2 导入相关包"
   ]
  },
  {
   "cell_type": "code",
   "execution_count": 8,
   "metadata": {
    "ExecuteTime": {
     "end_time": "2025-04-07T04:20:04.855530Z",
     "start_time": "2025-04-07T04:20:04.839966Z"
    },
    "collapsed": false,
    "jupyter": {
     "outputs_hidden": false
    },
    "scrolled": true,
    "tags": []
   },
   "outputs": [],
   "source": [
    "#导入包\n",
    "import numpy as np\n",
    "import os\n",
    "import paddle\n",
    "from paddle.io import Dataset, DataLoader\n",
    "import paddle.nn as nn\n",
    "import paddle.nn.functional as F\n",
    "from paddle.vision.datasets import DatasetFolder\n",
    "import paddle.vision.transforms as transforms\n",
    "from PIL import Image\n",
    "import sys\n",
    "import warnings\n",
    "import bisect\n",
    "import math\n",
    "from collections import Counter\n",
    "import matplotlib.pyplot as plt\n",
    "from matplotlib.pyplot import figure"
   ]
  },
  {
   "cell_type": "markdown",
   "metadata": {},
   "source": [
    "### 3.3 数据处理\n",
    "paddle.vision 为图像预处理、数据包装以及数据增强提供了许多有用的实用程序。\n",
    "\n",
    "在这里，由于我们的数据是按类标签存储在文件夹中的，所以我们可以直接应用 paddle.vision.datasets.DatasetFolder 来包装数据。\n",
    "\n",
    "详细信息，请参阅 paddlepaddle 官网。\n",
    "\n",
    "你需要完成数据增强部分的代码。如对图片进行旋转或者缩放、裁剪等操作。"
   ]
  },
  {
   "cell_type": "code",
   "execution_count": 9,
   "metadata": {
    "ExecuteTime": {
     "end_time": "2025-04-07T04:20:04.886404Z",
     "start_time": "2025-04-07T04:20:04.873118Z"
    },
    "collapsed": false,
    "jupyter": {
     "outputs_hidden": false
    },
    "scrolled": true,
    "tags": []
   },
   "outputs": [],
   "source": [
    "# 在训练中进行数据增强很重要。\n",
    "train_tfm = transforms.Compose([\n",
    "    # 将图像大小调整为固定形状 (height = width = 128)\n",
    "    transforms.Resize((128, 128)),\n",
    "    # ---------- TODO ----------\n",
    "    # 任务点1：数据增强\n",
    "    # 在此处添加你的代码，进行数据增强\n",
    "\n",
    "    transforms.ToTensor(),\n",
    "])\n",
    "\n",
    "# 我们不需要在测试和验证中进行扩充。\n",
    "# 只需要调整 PIL 图像的大小并将其转换为 Tensor。\n",
    "test_tfm = transforms.Compose([\n",
    "    transforms.Resize((128, 128)),\n",
    "    transforms.ToTensor(),\n",
    "])"
   ]
  },
  {
   "cell_type": "code",
   "execution_count": 10,
   "metadata": {
    "ExecuteTime": {
     "end_time": "2025-04-07T04:20:04.917525Z",
     "start_time": "2025-04-07T04:20:04.903831Z"
    },
    "collapsed": false,
    "jupyter": {
     "outputs_hidden": false
    },
    "scrolled": true,
    "tags": []
   },
   "outputs": [],
   "source": [
    "import os\n",
    "\n",
    "#此处代码为构造dataloader函数。\n",
    "IMG_EXTENSIONS = [\n",
    "    \".jpg\", \".JPG\", \".jpeg\", \".JPEG\",\n",
    "    \".png\", \".PNG\", \".ppm\", \".PPM\", \".bmp\", \".BMP\",\n",
    "]\n",
    "\n",
    "\n",
    "def is_image_file(filename):\n",
    "    return any(filename.endswith(extension) for extension in IMG_EXTENSIONS)\n",
    "\n",
    "\n",
    "def default_loader(path):\n",
    "    return Image.open(path).convert(\"RGB\")\n",
    "\n",
    "\n",
    "def make_dataset(root, split, txtfile=None):\n",
    "    images = []\n",
    "    if txtfile is not None:\n",
    "        ordertxt = open(txtfile)\n",
    "        for line in ordertxt:\n",
    "            data = line.strip()\n",
    "            if is_image_file(data):\n",
    "                imgpath = os.path.join(root, split, data)\n",
    "            item = (imgpath, -1)\n",
    "            images.append(item)\n",
    "    else:\n",
    "        root = os.path.join(root, split)\n",
    "        for onelabel in os.listdir(root):\n",
    "            newdir = os.path.join(root, onelabel)\n",
    "            for img in os.listdir(newdir):\n",
    "                imgpath = os.path.join(newdir, img)\n",
    "                item = (imgpath, int(onelabel))\n",
    "                images.append(item)\n",
    "    return images\n",
    "\n",
    "\n",
    "class ImageSet(Dataset):\n",
    "    def __init__(self, root, split, transform=None, loader=default_loader, txtfile=None):\n",
    "        self.samples = make_dataset(root, split, txtfile)\n",
    "        self.root = root\n",
    "        self.txtfile = txtfile\n",
    "        self.transform = transform\n",
    "        self.loader = loader\n",
    "\n",
    "    def __getitem__(self, index):\n",
    "        path, gt = self.samples[index]\n",
    "        img = self.loader(path)\n",
    "\n",
    "        if self.transform is not None:\n",
    "            img = self.transform(img)\n",
    "        return img, gt\n",
    "\n",
    "    def __len__(self):\n",
    "        return len(self.samples)\n"
   ]
  },
  {
   "cell_type": "code",
   "execution_count": 11,
   "metadata": {
    "ExecuteTime": {
     "end_time": "2025-04-07T04:20:04.978291Z",
     "start_time": "2025-04-07T04:20:04.934056Z"
    },
    "collapsed": false,
    "jupyter": {
     "outputs_hidden": false
    },
    "scrolled": true,
    "tags": []
   },
   "outputs": [],
   "source": [
    "# 更大的batch size通常会提供更稳定的梯度，但是GPU 显存是有限的，batch size过大，显存可能加载不了。\n",
    "batch_size = 256\n",
    "# 如果 out of memory,可以调小batch_size或者选用显存更大的GPU\n",
    "\n",
    "# 构建数据集。数据集划分为训练集、验证集、公开测试集和私有测试集。私有测试集的标签在助教手中，助教将依据您对私有测试集的预测结果来打分。\n",
    "# 代码main.ipynb要求一并上交，所以在实验报告中请如实作答。\n",
    "\n",
    "data_root = 'work/data/animal/'\n",
    "train_set = ImageSet(data_root, split=\"train\", loader=lambda x: Image.open(x), transform=train_tfm)\n",
    "val_set = ImageSet(data_root, split=\"val\", loader=lambda x: Image.open(x), transform=test_tfm)\n",
    "pub_test_set = ImageSet(data_root, split=\"pub_test\", loader=lambda x: Image.open(x), transform=test_tfm)\n",
    "pri_test_set = ImageSet(data_root, split=\"pri_test\", txtfile=\"pri_test_only_name.txt\", loader=lambda x: Image.open(x),\n",
    "                        transform=test_tfm)\n",
    "semi_set = ImageSet(data_root, split=\"semi\", txtfile=\"semi_only_name.txt\", loader=lambda x: Image.open(x),\n",
    "                    transform=test_tfm)\n",
    "\n",
    "train_loader = DataLoader(train_set, batch_size=batch_size, shuffle=True, drop_last=False)\n",
    "val_loader = DataLoader(val_set, batch_size=batch_size, shuffle=False, drop_last=False)\n",
    "pub_test_loader = DataLoader(pub_test_set, batch_size=batch_size, shuffle=False, drop_last=False)\n",
    "pri_test_loader = DataLoader(pri_test_set, batch_size=batch_size, shuffle=False, drop_last=False)\n"
   ]
  },
  {
   "cell_type": "markdown",
   "metadata": {},
   "source": [
    "### 3.4 模型\n",
    "### 3.4.1 CNN基础模型\n",
    "基本模型由卷积层和全连接层构成。\n",
    "\n",
    "由于彩色图像 (RGB) 有三个通道，因此网络的输入通道必须是3。输入大小为（3，128，128）。（128，128）为图片的宽和高。\\\n",
    "卷积网络的实现可调用nn.Conv2D（）函数，具体输入的参数请参数paddle使用文档。\\\n",
    "nn.MaxPool2D()可对图片进行最大池化以提取重要特征。\\\n",
    "在输入全连接层之前，必须将特征图展平。经过全连接层，最后获得每个类的“logits”。\n",
    "\n",
    "\n",
    "您可以在此处自由修改模型架构，以进一步提升效果。\\\n",
    "\\\n",
    "注意事项：\n",
    "使用互联网上任何模型都是允许的，但是，如果想使用常见的网络结构，如vgg等，请确保不要加载预训练的参数。\\\n",
    "另外，复杂的网络有过拟合的风险，当改变网络结构时，超参也有可能需要调整。\\\n",
    "\\\n",
    "例如，如果您使用 ResNet-18 作为模型：\n",
    "\n",
    "model = paddle.vision.models.resnet18(pretrained=False) → 这是符合要求。\n",
    "\n",
    "model = paddle.models.resnet18(pretrained=True) → 这是不符合要求的"
   ]
  },
  {
   "cell_type": "code",
   "execution_count": 12,
   "metadata": {
    "ExecuteTime": {
     "end_time": "2025-04-07T04:20:05.009320Z",
     "start_time": "2025-04-07T04:20:04.995305Z"
    },
    "collapsed": false,
    "jupyter": {
     "outputs_hidden": false
    },
    "scrolled": true,
    "tags": []
   },
   "outputs": [],
   "source": [
    "class CNN(nn.Layer):\n",
    "    def __init__(self):\n",
    "        super(CNN, self).__init__()\n",
    "        # 常用模块的参数：\n",
    "        # paddle.nn.Conv2D(in_channels, out_channels, kernel_size, stride, padding)\n",
    "        # paddle.nn.MaxPool2D(kernel_size, stride, padding)\n",
    "\n",
    "        # input image size: [3, 128, 128]\n",
    "        # ---------- TODO ----------\n",
    "        # 任务点2：定义CNN架构\n",
    "        # 以下是一个简单的CNN架构，您可以在此处自由修改。当前的架构也可以直接运行，但效果无保障。\n",
    "        self.cnn_layers = nn.Sequential(\n",
    "            nn.Conv2D(3, 64, 3, 1, 1),\n",
    "            nn.ReLU(),\n",
    "            nn.MaxPool2D(2, 2, 0),\n",
    "\n",
    "            nn.Conv2D(64, 128, 3, 1, 1),\n",
    "            nn.ReLU(),\n",
    "            nn.MaxPool2D(2, 2, 0),\n",
    "\n",
    "            nn.Conv2D(128, 256, 3, 1, 1),\n",
    "            nn.ReLU(),\n",
    "            nn.MaxPool2D(4, 4, 0),\n",
    "        )\n",
    "        self.fc_layers = nn.Sequential(\n",
    "            nn.Linear(256 * 8 * 8, 256),\n",
    "            nn.ReLU(),\n",
    "            nn.Linear(256, 10)\n",
    "        )\n",
    "\n",
    "    def forward(self, x):\n",
    "        # input (x): [batch_size, 3, 128, 128]\n",
    "        # output: [batch_size, 10]\n",
    "\n",
    "        # 提取特征\n",
    "        x = self.cnn_layers(x)\n",
    "        x = x.flatten(1)\n",
    "        # 特征通过全连接层转换得到最终的logits。\n",
    "        x = self.fc_layers(x)\n",
    "        return x\n",
    "\n",
    "# ---------- TODO ----------\n",
    "# 任务点3：自定义模型架构\n",
    "# 您可以在此处自由修改模型架构以进行进一步改进。如增加卷积层数等。\n",
    "# 如果您想使用一些众所周知的架构，例如 ResNet50，请确保不要加载预训练的权重。另外，复杂的模型有过拟合的风险。\n",
    "# 使用其他模型时，请同步修改任务点4中的模型初始化。"
   ]
  },
  {
   "cell_type": "markdown",
   "metadata": {},
   "source": [
    "### 3.4.2 VisionTransformer模型\n",
    "VisionTransformer模型总体上由 PatchEmbed层 , depth 个堆叠的 自注意力Block 和最后的 分类头 组成。\\\n",
    "如果你想尝试使用VisionTransformer来达到更好的效果，助教已经帮你实现好了整个VisionTransformer \\\n",
    "但是你还需要探索一组合适的参数用于VisionTransformer.__init__，有一定的难度，建议最后尝试。\n",
    "\\\n",
    "注意：如果要运行VisionTransformer模型，请确保已经完成 ViT.py 文件中的5个TODO（任务点7）。"
   ]
  },
  {
   "cell_type": "code",
   "execution_count": 13,
   "metadata": {
    "ExecuteTime": {
     "end_time": "2025-04-07T04:20:05.039733Z",
     "start_time": "2025-04-07T04:20:05.026684Z"
    },
    "scrolled": true,
    "tags": []
   },
   "outputs": [],
   "source": [
    "# ---------- TODO ----------\n",
    "# 任务点7：实现ViT模型（补全 ViT.py 文件中代码），并调整ViT参数\n",
    "\n",
    "# 参数初始化配置\n",
    "trunc_normal_ = nn.initializer.TruncatedNormal(std=.02)\n",
    "zeros_ = nn.initializer.Constant(value=0.)\n",
    "ones_ = nn.initializer.Constant(value=1.)\n",
    "\n",
    "from ViT import PatchEmbed, Block, Identity\n",
    "\n",
    "class VisionTransformer(nn.Layer):\n",
    "    def __init__(self,\n",
    "                 img_size=128,\n",
    "                 patch_size=16,\n",
    "                 in_chans=3,\n",
    "                 class_dim=10,\n",
    "                 embed_dim=768,\n",
    "                 depth=4,\n",
    "                 num_heads=4,\n",
    "                 mlp_ratio=4,\n",
    "                 qkv_bias=False,\n",
    "                 qk_scale=None,\n",
    "                 drop_rate=0.,\n",
    "                 attn_drop_rate=0.,\n",
    "                 drop_path_rate=0.,\n",
    "                 norm_layer='nn.LayerNorm',\n",
    "                 epsilon=1e-5,\n",
    "                 **args):\n",
    "        super().__init__()\n",
    "        self.class_dim = class_dim\n",
    "\n",
    "        self.num_features = self.embed_dim = embed_dim\n",
    "        # 图片分块和降维，块大小为patch_size，最终块向量维度为768\n",
    "        self.patch_embed = PatchEmbed(\n",
    "            img_size=img_size,\n",
    "            patch_size=patch_size,\n",
    "            in_chans=in_chans,\n",
    "            embed_dim=embed_dim)\n",
    "        # 分块数量\n",
    "        num_patches = self.patch_embed.num_patches\n",
    "        # 可学习的位置编码\n",
    "        self.pos_embed = self.create_parameter(shape=(1, num_patches + 1, embed_dim), default_initializer=zeros_)\n",
    "        self.add_parameter(\"pos_embed\", self.pos_embed)\n",
    "        # 人为追加class token，并使用该向量进行分类预测\n",
    "        self.cls_token = self.create_parameter(shape=(1, 1, embed_dim), default_initializer=zeros_)\n",
    "        self.add_parameter(\"cls_token\", self.cls_token)\n",
    "        self.pos_drop = nn.Dropout(p=drop_rate)\n",
    "\n",
    "        dpr = np.linspace(0, drop_path_rate, depth)\n",
    "        # transformer\n",
    "        self.blocks = nn.LayerList([\n",
    "            Block(\n",
    "                dim=embed_dim,\n",
    "                num_heads=num_heads,\n",
    "                mlp_ratio=mlp_ratio,\n",
    "                qkv_bias=qkv_bias,\n",
    "                qk_scale=qk_scale,\n",
    "                drop=drop_rate,\n",
    "                attn_drop=attn_drop_rate,\n",
    "                drop_path=dpr[i],\n",
    "                norm_layer=norm_layer,\n",
    "                epsilon=epsilon) for i in range(depth)\n",
    "        ])\n",
    "\n",
    "        self.norm = eval(norm_layer)(embed_dim, epsilon=epsilon)\n",
    "\n",
    "        # Classifier head\n",
    "        self.head = nn.Linear(embed_dim, class_dim) if class_dim > 0 else Identity()\n",
    "\n",
    "        trunc_normal_(self.pos_embed)\n",
    "        trunc_normal_(self.cls_token)\n",
    "        self.apply(self._init_weights)\n",
    "\n",
    "    # 参数初始化\n",
    "    def _init_weights(self, m):\n",
    "        if isinstance(m, nn.Linear):\n",
    "            trunc_normal_(m.weight)\n",
    "            if isinstance(m, nn.Linear) and m.bias is not None:\n",
    "                zeros_(m.bias)\n",
    "        elif isinstance(m, nn.LayerNorm):\n",
    "            zeros_(m.bias)\n",
    "            ones_(m.weight)\n",
    "\n",
    "    def forward_features(self, x):\n",
    "\n",
    "        B = paddle.shape(x)[0]\n",
    "        # 将图片分块，并调整每个块向量的维度\n",
    "        x = self.patch_embed(x)\n",
    "\n",
    "        # 将class token与前面的分块进行拼接\n",
    "        cls_tokens = self.cls_token.expand((B, -1, -1))\n",
    "        x = paddle.concat((cls_tokens, x), axis=1)\n",
    "        # 将编码向量中加入位置编码\n",
    "        x = x + self.pos_embed\n",
    "        x = self.pos_drop(x)\n",
    "        # 堆叠 transformer 结构\n",
    "        for blk in self.blocks:\n",
    "            x = blk(x)\n",
    "        # LayerNorm\n",
    "        x = self.norm(x)\n",
    "        # 提取分类 tokens 的输出\n",
    "        return x[:, 0]\n",
    "\n",
    "    def forward(self, x):\n",
    "        # 获取图像特征\n",
    "        x = self.forward_features(x)\n",
    "        # 图像分类\n",
    "        x = self.head(x)\n",
    "        return x"
   ]
  },
  {
   "cell_type": "markdown",
   "metadata": {},
   "source": [
    "### 3.5 训练\n",
    "## 一些性能相关的提示\n",
    "1 基于最基础的代码，不增加任何数据增强，不修改任何参数，batch_size = 256 跑通，训练10个epoch， best_val_acc大约 0.508\\\n",
    "2 数据增强+修改提供的CNN网络结构+调整学习率，训练35epoch  best_val_acc大约 0.72-0.73 \\\n",
    "3 数据增强+修改提供的CNN网络结构+调整学习率+半监督数据集  性能微量up \\\n",
    "4 尝试使用VIT或者更适合小数据集的VIT变体？ 自由探索！\\\n",
    "5 推荐将模型训练到一定的效果后再考虑半监督，不然会误导模型"
   ]
  },
  {
   "cell_type": "code",
   "execution_count": 14,
   "metadata": {
    "ExecuteTime": {
     "end_time": "2025-04-07T04:20:05.070754Z",
     "start_time": "2025-04-07T04:20:05.056740Z"
    },
    "scrolled": true,
    "tags": []
   },
   "outputs": [],
   "source": [
    "# 固定 random seed\n",
    "def same_seeds(seed):\n",
    "    paddle.seed(seed)\n",
    "    np.random.seed(seed)\n",
    "\n",
    "\n",
    "same_seeds(0)\n",
    "do_semi = False\n",
    "init_model = True"
   ]
  },
  {
   "cell_type": "code",
   "execution_count": 15,
   "metadata": {
    "ExecuteTime": {
     "end_time": "2025-04-07T04:23:41.813475Z",
     "start_time": "2025-04-07T04:20:05.088740Z"
    },
    "collapsed": false,
    "jupyter": {
     "outputs_hidden": false
    },
    "scrolled": true,
    "tags": []
   },
   "outputs": [
    {
     "name": "stdout",
     "output_type": "stream",
     "text": [
      "start train\n",
      "epoch: 0, batch_id: 0, loss is: 2.503720760345459, acc is: 0.078125\n",
      "epoch: 0, batch_id: 10, loss is: 2.290696620941162, acc is: 0.09375\n",
      "#===epoch: 0, train loss is: 4.050253391265869, train acc is: 11.08%===#\n",
      "#===epoch: 0, val loss is: 2.3107051849365234, val acc is: 14.78%===#\n",
      "saved,best_val_acc=0.14778409088030459\n",
      "epoch: 1, batch_id: 0, loss is: 2.2474544048309326, acc is: 0.15625\n",
      "epoch: 1, batch_id: 10, loss is: 2.0745582580566406, acc is: 0.24609375\n",
      "#===epoch: 1, train loss is: 2.162799835205078, train acc is: 22.32%===#\n",
      "#===epoch: 1, val loss is: 2.019317626953125, val acc is: 26.16%===#\n",
      "saved,best_val_acc=0.26163352131843565\n",
      "epoch: 2, batch_id: 0, loss is: 1.9071192741394043, acc is: 0.30078125\n",
      "epoch: 2, batch_id: 10, loss is: 1.7263100147247314, acc is: 0.40234375\n",
      "#===epoch: 2, train loss is: 1.8329570293426514, train acc is: 36.36%===#\n",
      "#===epoch: 2, val loss is: 1.786526083946228, val acc is: 40.03%===#\n",
      "saved,best_val_acc=0.40028409361839296\n",
      "epoch: 3, batch_id: 0, loss is: 1.5537002086639404, acc is: 0.453125\n",
      "epoch: 3, batch_id: 10, loss is: 1.5245946645736694, acc is: 0.49609375\n",
      "#===epoch: 3, train loss is: 1.596024990081787, train acc is: 45.25%===#\n",
      "#===epoch: 3, val loss is: 1.5955755710601807, val acc is: 46.79%===#\n",
      "saved,best_val_acc=0.46789772510528566\n",
      "epoch: 4, batch_id: 0, loss is: 1.4740211963653564, acc is: 0.46875\n",
      "epoch: 4, batch_id: 10, loss is: 1.4358434677124023, acc is: 0.49609375\n",
      "#===epoch: 4, train loss is: 1.405531406402588, train acc is: 51.29%===#\n",
      "#===epoch: 4, val loss is: 1.5377559661865234, val acc is: 49.58%===#\n",
      "saved,best_val_acc=0.49582386016845703\n"
     ]
    }
   ],
   "source": [
    "# 加载模型 开始训练\n",
    "if init_model:\n",
    "    # ---------- TODO ----------\n",
    "    # 任务点4：模型初始化\n",
    "    # 模型初始化，请修改这里，使用简单CNN或VisionTransformer，也可以使用其他模型，比如ResNet50等。\n",
    "    model = CNN()\n",
    "    # model = VisionTransformer()\n",
    "\n",
    "n_epochs = 5\n",
    "learning_rate = 0.001\n",
    "work_path = 'work/model'\n",
    "# 损失函数cross-entropy\n",
    "criterion = nn.CrossEntropyLoss()\n",
    "\n",
    "# 初始化优化器，可以微调一些超参数，比如学习率。\n",
    "grad_norm = paddle.nn.ClipGradByGlobalNorm(clip_norm=10)\n",
    "optimizer = paddle.optimizer.Adam(parameters=model.parameters(), learning_rate=learning_rate, weight_decay=1e-3,\n",
    "                                  grad_clip=grad_norm)\n",
    "\n",
    "best_acc = 0.0\n",
    "val_acc = 0.0\n",
    "loss_record = {'train': {'loss': [], 'iter': []}, 'val': {'loss': [], 'iter': []}}  # for recording loss\n",
    "acc_record = {'train': {'acc': [], 'iter': []}, 'val': {'acc': [], 'iter': []}}  # for recording accuracy\n",
    "loss_iter = 0\n",
    "acc_iter = 0\n",
    "\n",
    "if do_semi:\n",
    "    this_train_loader = semi_train_loader\n",
    "    print(\"do_semi\")\n",
    "else:\n",
    "    this_train_loader = train_loader\n",
    "\n",
    "print(\"start train\")\n",
    "for epoch in range(n_epochs):\n",
    "    model.train()\n",
    "    train_num = 0.0\n",
    "    train_loss = 0.0\n",
    "    val_num = 0.0\n",
    "    val_loss = 0.0\n",
    "    accuracy_manager = paddle.metric.Accuracy()\n",
    "    val_accuracy_manager = paddle.metric.Accuracy()\n",
    "\n",
    "    for batch_id, data in enumerate(this_train_loader):\n",
    "        x_data, y_data = data\n",
    "\n",
    "        if y_data.dim() == 1:\n",
    "            y_data = paddle.unsqueeze(y_data, axis=1)\n",
    "        logits = model(x_data)\n",
    "        # print(\"43_y_data.shape\",y_data.shape)\n",
    "        loss = criterion(logits, y_data)\n",
    "        acc = paddle.metric.accuracy(logits, y_data)\n",
    "        acc_1d = acc.unsqueeze(axis=0)\n",
    "        accuracy_manager.update(acc_1d)\n",
    "        if batch_id % 10 == 0:\n",
    "            loss_record['train']['loss'].append(loss.numpy())\n",
    "            loss_record['train']['iter'].append(loss_iter)\n",
    "            loss_iter += 1\n",
    "            print(\"epoch: {}, batch_id: {}, loss is: {}, acc is: {}\".format(epoch, batch_id, loss.numpy(), acc.numpy()))\n",
    "\n",
    "        loss.backward()\n",
    "        optimizer.step()\n",
    "        optimizer.clear_grad()\n",
    "        train_loss += loss\n",
    "        train_num += len(y_data)\n",
    "\n",
    "    total_train_loss = (train_loss / train_num) * batch_size\n",
    "    train_acc = accuracy_manager.accumulate()\n",
    "    acc_record['train']['acc'].append(train_acc)\n",
    "    acc_record['train']['iter'].append(acc_iter)\n",
    "    acc_iter += 1\n",
    "    print(\"#===epoch: {}, train loss is: {}, train acc is: {:2.2f}%===#\".format(epoch, total_train_loss.numpy(),\n",
    "                                                                                train_acc * 100))\n",
    "\n",
    "    # ---------- Validation ----------\n",
    "    # 确保模型处于value模式，以便某些仅仅适用于训练的操作（如 dropout）被禁用并正常工作。\n",
    "    model.eval()\n",
    "\n",
    "    # 分批迭代验证集。\n",
    "    for batch_id, data in enumerate(val_loader):\n",
    "        # 一个batch由图像数据和相应的标签组成。\n",
    "        x_data, y_data = data\n",
    "\n",
    "        if y_data.dim() == 1:\n",
    "            y_data = paddle.unsqueeze(y_data, axis=1)\n",
    "        with paddle.no_grad():\n",
    "            logits = model(x_data)\n",
    "        loss = criterion(logits, y_data)\n",
    "        # 计算每个batch的 the accuracy \n",
    "        acc = paddle.metric.accuracy(logits, y_data)\n",
    "        acc_1d = acc.unsqueeze(axis=0)\n",
    "        val_accuracy_manager.update(acc_1d)\n",
    "        # 记录 loss and accuracy.\n",
    "        val_loss += loss\n",
    "        val_num += len(y_data)\n",
    "\n",
    "    total_val_loss = (val_loss / val_num) * batch_size\n",
    "    loss_record['val']['loss'].append(total_val_loss.numpy())\n",
    "    loss_record['val']['iter'].append(loss_iter)\n",
    "    val_acc = val_accuracy_manager.accumulate()\n",
    "    acc_record['val']['acc'].append(val_acc)\n",
    "    acc_record['val']['iter'].append(acc_iter)\n",
    "    print(\n",
    "        \"#===epoch: {}, val loss is: {}, val acc is: {:2.2f}%===#\".format(epoch, total_val_loss.numpy(), val_acc * 100))\n",
    "    # ===================save====================\n",
    "    if val_acc > best_acc:\n",
    "        best_acc = val_acc\n",
    "        paddle.save(model.state_dict(), os.path.join(work_path, 'best_model.pdparams'))\n",
    "        paddle.save(optimizer.state_dict(), os.path.join(work_path, 'best_optimizer.pdopt'))\n",
    "        print(f\"saved,best_val_acc={best_acc}\")\n",
    "\n",
    "paddle.save(model.state_dict(), os.path.join(work_path, 'final_model.pdparams'))\n",
    "paddle.save(optimizer.state_dict(), os.path.join(work_path, 'final_optimizer.pdopt'))"
   ]
  },
  {
   "cell_type": "markdown",
   "metadata": {},
   "source": [
    "如果想要更进一步提升效果，需要完成下面的函数“get_pseudo_labels”中空缺的内容。该函数用于半监督学习。 具体而言，需要对未标记的数据进行预测，然后获得置信度大的预测结果作为伪标签来扩充数据集，这样模型会获得更好的表现。"
   ]
  },
  {
   "cell_type": "code",
   "execution_count": 16,
   "metadata": {
    "ExecuteTime": {
     "end_time": "2025-04-07T04:23:41.936031Z",
     "start_time": "2025-04-07T04:23:41.922008Z"
    },
    "scrolled": true,
    "tags": []
   },
   "outputs": [],
   "source": [
    "from paddle.io import TensorDataset\n",
    "\n",
    "def get_pseudo_labels(dataset, model, threshold=0.65):\n",
    "    # 此函数使用给定模型生成数据集的伪标签。\n",
    "    # 它返回一个 DatasetFolder 实例，其中包含预测图片logits置信度超过给定阈值的图片。\n",
    "\n",
    "    # 构造一个数据加载器。\n",
    "    data_loader = DataLoader(dataset, batch_size=batch_size, shuffle=False, drop_last=False)\n",
    "\n",
    "    # 确保模型处于 eval 模型）禁止训练。\n",
    "    model.eval()\n",
    "    # 定义softmax函数\n",
    "    softmax = nn.Softmax(axis=-1)\n",
    "    # 训练\n",
    "    for batch_id, data in enumerate(data_loader):\n",
    "        batch_img, _ = data\n",
    "        # 使用 torch.no_grad() 加速了前向过程。\n",
    "        with paddle.no_grad():\n",
    "            logits = model(batch_img)\n",
    "\n",
    "        # 通过对 logits 应用 softmax 来获得概率分布。\n",
    "        probs = softmax(logits)\n",
    "        # print(probs.shape)\n",
    "        # ---------- TODO ----------\n",
    "        # 任务点5：半监督数据集\n",
    "        # 过滤数据并构建一个新的数据集。提示：使用TensorDataset\n",
    "\n",
    "        # --------------------------------\n",
    "\n",
    "    return dataset"
   ]
  },
  {
   "cell_type": "markdown",
   "metadata": {},
   "source": [
    "当你需要进行半监督训练时，请取消以下单元格的注释，并修改以下的do_semi为True，构建semi_train_loader后，再次运行模型训练单元格即可 \\\n",
    "\\\n",
    "注意：\n",
    "- 使用半监督的前提条件是你的模型已经可以取得一定的效果 \\\n",
    "- 当你进行半监督训练时，你的模型已经是训练过的，所以,你应该调整相关参数（n_epochs,learning_rate)"
   ]
  },
  {
   "cell_type": "code",
   "execution_count": 17,
   "metadata": {
    "ExecuteTime": {
     "end_time": "2025-04-07T04:23:41.951528Z",
     "start_time": "2025-04-07T04:23:41.941528Z"
    },
    "scrolled": true,
    "tags": []
   },
   "outputs": [],
   "source": [
    "# do_semi=False\n",
    "# threshold =\n",
    "# if do_semi:\n",
    "#     # ---------- TODO ----------\n",
    "#     # 任务点6：半监督数据集\n",
    "#     # 使用经过训练的模型获取未标记数据的伪标签（提示：调用get_pseudo_labels函数）。\n",
    "#\n",
    "#\n",
    "#     semi_train_dataset=\n",
    "#     # --------------------------------\n",
    "#     # 构造一个新的数据集和一个用于训练的数据加载器。\n",
    "#     semi_train_loader = DataLoader(semi_train_dataset, batch_size=batch_size, shuffle=True, drop_last=False)\n",
    "#     init_model=False\n",
    "#     # 置init_model为False，确保再次再次运行模型训练单元格时，不会重新初始化模型"
   ]
  },
  {
   "cell_type": "code",
   "execution_count": 18,
   "metadata": {
    "ExecuteTime": {
     "end_time": "2025-04-07T04:23:42.029944Z",
     "start_time": "2025-04-07T04:23:42.015900Z"
    },
    "collapsed": false,
    "jupyter": {
     "outputs_hidden": false
    },
    "scrolled": true,
    "tags": []
   },
   "outputs": [],
   "source": [
    "#画图\n",
    "def plot_learning_curve(record, title='loss', ylabel='CE Loss'):\n",
    "    ''' Plot learning curve of your CNN '''\n",
    "    maxtrain = max(map(float, record['train'][title]))\n",
    "    maxval = max(map(float, record['val'][title]))\n",
    "    ymax = max(maxtrain, maxval) * 1.1\n",
    "    mintrain = min(map(float, record['train'][title]))\n",
    "    minval = min(map(float, record['val'][title]))\n",
    "    ymin = min(mintrain, minval) * 0.9\n",
    "    total_steps = len(record['train'][title])\n",
    "    x_1 = list(map(int, record['train']['iter']))\n",
    "    x_2 = list(map(int, record['val']['iter']))\n",
    "    figure(figsize=(10, 6))\n",
    "    plt.plot(x_1, record['train'][title], c='tab:red', label='train')\n",
    "    plt.plot(x_2, record['val'][title], c='tab:cyan', label='val')\n",
    "    plt.ylim(ymin, ymax)\n",
    "    plt.xlabel('Training steps')\n",
    "    plt.ylabel(ylabel)\n",
    "    plt.title('Learning curve of {}'.format(title))\n",
    "    plt.legend()\n",
    "    plt.show()"
   ]
  },
  {
   "cell_type": "code",
   "execution_count": 19,
   "metadata": {
    "ExecuteTime": {
     "end_time": "2025-04-07T04:23:42.228625Z",
     "start_time": "2025-04-07T04:23:42.092457Z"
    },
    "collapsed": false,
    "jupyter": {
     "outputs_hidden": false
    },
    "scrolled": true,
    "tags": []
   },
   "outputs": [
    {
     "data": {
      "image/png": "[encoded data removed]",
      "text/plain": [
       "<Figure size 1000x600 with 1 Axes>"
      ]
     },
     "metadata": {},
     "output_type": "display_data"
    }
   ],
   "source": [
    "plot_learning_curve(loss_record, title='loss', ylabel='CE Loss')"
   ]
  },
  {
   "cell_type": "code",
   "execution_count": 20,
   "metadata": {
    "ExecuteTime": {
     "end_time": "2025-04-07T04:23:42.413780Z",
     "start_time": "2025-04-07T04:23:42.292355Z"
    },
    "collapsed": false,
    "jupyter": {
     "outputs_hidden": false
    },
    "scrolled": true,
    "tags": []
   },
   "outputs": [
    {
     "data": {
      "image/png": "[encoded data removed]",
      "text/plain": [
       "<Figure size 1000x600 with 1 Axes>"
      ]
     },
     "metadata": {},
     "output_type": "display_data"
    }
   ],
   "source": [
    "plot_learning_curve(acc_record, title='acc', ylabel='Accuracy')"
   ]
  },
  {
   "cell_type": "markdown",
   "metadata": {},
   "source": [
    "### 3.5测试和提交\n",
    "对于测试，我们需要确保模型处于 eval 模式，并且数据集的顺序不应该被打乱（test_loader 中的“shuffle=False”）。\n",
    "\n",
    "将预测保存到 CSV 文件中。csv文件需要被提交，这是我们测试模型效果的重要依据。\n",
    "\n",
    "最后上交的文件夹中包括此jupyter文件（后缀为ipynb的文件），预测结果predict.csv文件，以及实验报告和问答题的答案。"
   ]
  },
  {
   "cell_type": "code",
   "execution_count": 21,
   "metadata": {
    "ExecuteTime": {
     "end_time": "2025-04-07T04:23:52.587227Z",
     "start_time": "2025-04-07T04:23:42.477581Z"
    },
    "collapsed": false,
    "jupyter": {
     "outputs_hidden": false
    },
    "scrolled": true,
    "tags": []
   },
   "outputs": [
    {
     "name": "stdout",
     "output_type": "stream",
     "text": [
      "test loss is: 1.5788342952728271, test acc is: 0.45848011374473574\n"
     ]
    }
   ],
   "source": [
    "# 确保模型处于eval模式。\n",
    "# 初始化一个列表来存储预测。\n",
    "predictions = []\n",
    "model_state_dict = paddle.load(os.path.join(work_path, 'best_model.pdparams'))\n",
    "# optimizer_state_dict = paddle.load('work/model/best_model.pdopt')\n",
    "model.set_state_dict(model_state_dict)\n",
    "# optimizer.set_state_dict(optimizer_state_dict)\n",
    "\n",
    "test_num = 0.0\n",
    "test_loss = 0.0\n",
    "\n",
    "model.eval()\n",
    "test_accuracy_manager = paddle.metric.Accuracy()\n",
    "# 在公开测试集上进行测试\n",
    "for batch_id, data in enumerate(pub_test_loader):\n",
    "    x_data, y_data = data\n",
    "    labels = paddle.unsqueeze(y_data, axis=1)\n",
    "\n",
    "    # ===================forward=====================\n",
    "    # 在测试中不需要梯度。\n",
    "    # 使用 paddle.no_grad() 加速前进过程。\n",
    "    with paddle.no_grad():\n",
    "        predicts = model(x_data)\n",
    "        loss = criterion(predicts, y_data)\n",
    "    # ==================calculate acc================\n",
    "    acc = paddle.metric.accuracy(predicts, labels)\n",
    "    acc_1d = paddle.unsqueeze(acc, axis=0)\n",
    "    test_accuracy_manager.update(acc_1d)\n",
    "\n",
    "    test_loss += loss\n",
    "    test_num += len(y_data)\n",
    "\n",
    "test_acc = test_accuracy_manager.accumulate()\n",
    "total_test_loss = (test_loss / test_num) * batch_size\n",
    "print(\"test loss is: {}, test acc is: {}\".format(total_test_loss.numpy(), test_acc))\n"
   ]
  },
  {
   "cell_type": "code",
   "execution_count": 22,
   "metadata": {
    "ExecuteTime": {
     "end_time": "2025-04-07T04:24:03.406317Z",
     "start_time": "2025-04-07T04:23:52.650200Z"
    }
   },
   "outputs": [],
   "source": [
    "# 在私有测试集上进行测试\n",
    "for batch_id, data in enumerate(pri_test_loader):\n",
    "    x_data, y_data = data\n",
    "    with paddle.no_grad():\n",
    "        logits = model(x_data)\n",
    "    predictions.extend(paddle.argmax(logits, axis=1).cpu().numpy().tolist())\n",
    "\n",
    "# 将私有测试集的预测结果保存到文件predict.csv中\n",
    "with open(\"./predict.csv\", \"w\") as f:\n",
    "    f.write(\"Id,Category\\n\")\n",
    "    for i, pred in  enumerate(predictions):\n",
    "         f.write(f\"{i},{pred}\\n\")"
   ]
  },
  {
   "cell_type": "markdown",
   "metadata": {},
   "source": [
    "请点击[此处](https://ai.baidu.com/docs#/AIStudio_Project_Notebook/a38e5576)查看本环境基本用法.  <br>\n",
    "Please click [here ](https://ai.baidu.com/docs#/AIStudio_Project_Notebook/a38e5576) for more detailed instructions. "
   ]
  }
 ],
 "metadata": {
  "kernelspec": {
   "display_name": "Python 3 (ipykernel)",
   "language": "python",
   "name": "python3"
  },
  "language_info": {
   "codemirror_mode": {
    "name": "ipython",
    "version": 3
   },
   "file_extension": ".py",
   "mimetype": "text/x-python",
   "name": "python",
   "nbconvert_exporter": "python",
   "pygments_lexer": "ipython3",
   "version": "3.7.4"
  }
 },
 "nbformat": 4,
 "nbformat_minor": 4
}
