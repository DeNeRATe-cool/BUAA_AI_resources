{
 "cells": [
  {
   "cell_type": "markdown",
   "metadata": {},
   "source": [
    "# 任务四:强化学习完成CartPole任务\n",
    "\n",
    "### CartPole-v1\n",
    "CartPole是gym提供的经典控制环境摆车，它要求给小车向左或向右的力，移动小车，让上面的杆子能竖起来。该环境有4个连续的环境状态和2个离散的动作。具体内容如下表所示：\n",
    "\n",
    "环境状态：\n",
    "\n",
    "| Num | Observation           | Min                 | Max               |\n",
    "|-----|-----------------------|---------------------|-------------------|\n",
    "| 0   | Cart Position         | -4.8                | 4.8               |\n",
    "| 1   | Cart Velocity         | -Inf                | Inf               |\n",
    "| 2   | Pole Angle            | ~ -0.418 rad (-24°) | ~ 0.418 rad (24°) |\n",
    "| 3   | Pole Angular Velocity | -Inf                | Inf               |\n",
    "\n",
    "动作：\n",
    "\n",
    "| Num | Action                 |\n",
    "|-----|------------------------|\n",
    "| 0   | Push cart to the left  |\n",
    "| 1   | Push cart to the right |"
   ]
  },
  {
   "cell_type": "markdown",
   "metadata": {},
   "source": [
    "## 1.导入依赖包\n",
    "* paddle框架\n",
    "* gym环境库\n",
    "* matplotlib画图工具\n",
    "* tqdm进度条显示\n",
    "* numpy科学计算库\n",
    "* random随机操作库"
   ]
  },
  {
   "cell_type": "code",
   "execution_count": 1,
   "metadata": {
    "execution": {
     "iopub.execute_input": "2025-06-13T07:33:40.145867Z",
     "iopub.status.busy": "2025-06-13T07:33:40.145490Z",
     "iopub.status.idle": "2025-06-13T07:33:42.306586Z",
     "shell.execute_reply": "2025-06-13T07:33:42.305704Z",
     "shell.execute_reply.started": "2025-06-13T07:33:40.145845Z"
    },
    "scrolled": true,
    "tags": []
   },
   "outputs": [
    {
     "name": "stderr",
     "output_type": "stream",
     "text": [
      "/opt/conda/envs/python35-paddle120-env/lib/python3.7/site-packages/matplotlib/__init__.py:107: DeprecationWarning: Using or importing the ABCs from 'collections' instead of from 'collections.abc' is deprecated, and in 3.8 it will stop working\r\n",
      "  from collections import MutableMapping\r\n",
      "/opt/conda/envs/python35-paddle120-env/lib/python3.7/site-packages/matplotlib/rcsetup.py:20: DeprecationWarning: Using or importing the ABCs from 'collections' instead of from 'collections.abc' is deprecated, and in 3.8 it will stop working\r\n",
      "  from collections import Iterable, Mapping\r\n",
      "/opt/conda/envs/python35-paddle120-env/lib/python3.7/site-packages/matplotlib/colors.py:53: DeprecationWarning: Using or importing the ABCs from 'collections' instead of from 'collections.abc' is deprecated, and in 3.8 it will stop working\r\n",
      "  from collections import Sized\r\n"
     ]
    }
   ],
   "source": [
    "import paddle\n",
    "import paddle.nn.functional as F\n",
    "import paddle.nn as nn\n",
    "import gym\n",
    "import matplotlib.pyplot as plt\n",
    "from matplotlib import animation\n",
    "from tqdm import tqdm\n",
    "import numpy as np\n",
    "import random"
   ]
  },
  {
   "cell_type": "markdown",
   "metadata": {},
   "source": [
    "## 2.定义策略网络\n",
    "策略网络：**两个全连接层**，最后的输出经过softmax函数处理（因为是动作是离散的）\n",
    "\n",
    "PolicyNet表示智能体在状态s下，采取动作α概率。不同的策略函数，影响到智能体对action的选择，action又会影响到状态的迁移和得到的reward以及最终的回报。\n"
   ]
  },
  {
   "cell_type": "code",
   "execution_count": 2,
   "metadata": {
    "collapsed": false,
    "execution": {
     "iopub.execute_input": "2025-06-13T07:33:43.856741Z",
     "iopub.status.busy": "2025-06-13T07:33:43.856340Z",
     "iopub.status.idle": "2025-06-13T07:33:43.861088Z",
     "shell.execute_reply": "2025-06-13T07:33:43.860504Z",
     "shell.execute_reply.started": "2025-06-13T07:33:43.856719Z"
    },
    "jupyter": {
     "outputs_hidden": false
    },
    "scrolled": true
   },
   "outputs": [],
   "source": [
    "class PolicyNet(paddle.nn.Layer):\n",
    "    def __init__(self, state_dim, hidden_dim, action_dim):\n",
    "        super(PolicyNet, self).__init__()\n",
    "        self.fc1 = paddle.nn.Linear(state_dim, hidden_dim)\n",
    "        self.fc2 = paddle.nn.Linear(hidden_dim, action_dim)\n",
    "\n",
    "    def forward(self, x):\n",
    "        x = F.relu(self.fc1(x))\n",
    "        return F.softmax(self.fc2(x))\n"
   ]
  },
  {
   "cell_type": "markdown",
   "metadata": {},
   "source": [
    "## 3. 实现强化学习的多个版本算法\n",
    "在强化学习中，智能体（agent）通过执行一系列动作(action)来影响环境，从而获得反馈信号，即奖励（reward）。\n",
    "\n",
    "强化学习中，策略优化算法（如 Actor-Critic、PPO）的核心是**如何合理估计优势函数$A_t$，使得在每一次智能体与环境的交互中，通过优势函数衡量某个动作比平均策略好多少，从而更新策略（actor 网络）的参数，引导智能体在相似情境下选择更优的动作**。\n",
    "\n",
    "在实现每个Agent后，你可以直接到**第4部分**调用相应的Agent进行训练，检测一下你的代码是否正确有效。\n"
   ]
  },
  {
   "cell_type": "markdown",
   "metadata": {},
   "source": [
    "### 3.1 Reinforce\n",
    "\n",
    "Reinforce是我们课堂引入强化学习概念的一个基础的算法，下述**版本0和版本1**已经实现，可以直接运行，大家**只需要实现版本2**，帮助大家迅速回顾一下强化学习的基础内容。"
   ]
  },
  {
   "cell_type": "markdown",
   "metadata": {},
   "source": [
    "版本0：只根据当前动作的立即奖励$r_t$来更新策略。没有任何关于未来奖励的估计或规划。"
   ]
  },
  {
   "cell_type": "markdown",
   "metadata": {},
   "source": [
    "![](https://ai-studio-static-online.cdn.bcebos.com/bd30b6a392f74ae6868287a88535f330cb29631ed55f4918b562ad33d8a2d9e1)\n",
    "\n"
   ]
  },
  {
   "cell_type": "markdown",
   "metadata": {},
   "source": [
    "版本1：将每一时间步的更新依赖于从当前时间步开始直到回合结束的所有未来奖励之和:\n",
    "\n",
    "$G_t = \\sum_{k=t}^{T} r_k$"
   ]
  },
  {
   "cell_type": "markdown",
   "metadata": {},
   "source": [
    "![](https://ai-studio-static-online.cdn.bcebos.com/e093d653b7ed4680ba1db3596c3af5cb9114fd3eda994331ba8c38f7f57cc2a2)\n",
    "\n"
   ]
  },
  {
   "cell_type": "markdown",
   "metadata": {},
   "source": [
    "\n",
    "版本2：在版本1的基础上，考虑“未来奖励的价值应该随着时间推移而递减”，引入折扣因子$\\gamma \\in [0, 1]$:\n",
    "\n",
    "$G_t = \\sum_{k=0}^{T - t} \\gamma^k \\cdot r_{t+k}$"
   ]
  },
  {
   "cell_type": "markdown",
   "metadata": {},
   "source": [
    "![](https://ai-studio-static-online.cdn.bcebos.com/ad0e3cc20b4045a19c26dd64276b5454667b459540bf41de97162441f57a8e3b)\n",
    "\n"
   ]
  },
  {
   "cell_type": "markdown",
   "metadata": {},
   "source": [
    "注意，以下需要你补充版本2的代码。\n",
    "\n",
    "`version=0`代表选取版本0\n",
    "\n",
    "`version=1`代表选取版本1\n",
    "\n",
    "`version=2`代表选取版本2"
   ]
  },
  {
   "cell_type": "code",
   "execution_count": 3,
   "metadata": {
    "execution": {
     "iopub.execute_input": "2025-06-13T07:33:47.754838Z",
     "iopub.status.busy": "2025-06-13T07:33:47.754443Z",
     "iopub.status.idle": "2025-06-13T07:33:47.763845Z",
     "shell.execute_reply": "2025-06-13T07:33:47.763284Z",
     "shell.execute_reply.started": "2025-06-13T07:33:47.754816Z"
    },
    "scrolled": true
   },
   "outputs": [],
   "source": [
    "class Reinforce:\n",
    "    def __init__(self, state_dim, hidden_dim, action_dim, actor_lr, gamma, version=1):\n",
    "        self.actor = PolicyNet(state_dim, hidden_dim, action_dim)\n",
    "        self.optimizer = paddle.optimizer.Adam(parameters=self.actor.parameters(), learning_rate=actor_lr)\n",
    "        self.gamma = gamma\n",
    "        self.version = version\n",
    "\n",
    "    def take_action(self, state):\n",
    "        state = paddle.to_tensor(np.array([state]), dtype='float32')\n",
    "        probs = self.actor(state)\n",
    "        dist = paddle.distribution.Categorical(probs)\n",
    "        action = dist.sample([1]).numpy()[0]\n",
    "        return action.item()\n",
    "\n",
    "    def update(self, transition_dict):\n",
    "        states = paddle.to_tensor(transition_dict['states'], dtype='float32')\n",
    "        actions = paddle.to_tensor(transition_dict['actions']).reshape((-1, 1))\n",
    "        rewards = transition_dict['rewards']\n",
    "        A = []\n",
    "        \"\"\"\n",
    "        # TODO0:运行目前已有的算法熟悉训练流程\n",
    "        # 在第4部分的训练过程中选择Reinforce算法进行训练\n",
    "        # 可以设置version=0或1，只需要简单测试这两个版本的效果。\n",
    "        \"\"\"\n",
    "        # 版本0\n",
    "        if self.version == 0:\n",
    "            A = rewards\n",
    "        # 版本1  \n",
    "        elif self.version == 1:   \n",
    "            R = 0\n",
    "            for r in reversed(rewards):\n",
    "                R = r + R\n",
    "                A.insert(0, R)\n",
    "        # 版本2，待实现\n",
    "        elif self.version == 2: \n",
    "            R = 0\n",
    "            for r in reversed(rewards):\n",
    "                R = r + self.gamma * R\n",
    "                A.insert(0, R)\n",
    "        \"\"\"\n",
    "            # TODO1:实现版本2的代码\n",
    "            # 你需要修改整个update函数\n",
    "            # 1. 构造折扣累积奖励\n",
    "            # 2. 计算 A = rewards[t] + gamma * A\n",
    "            # 3. 转换为 Tensor 并标准化\n",
    "            \n",
    "        \"\"\"\n",
    "\n",
    "        A = paddle.to_tensor(A, dtype='float32')\n",
    "        A = (A - A.mean()) / (A.std() + 1e-8)  \n",
    "\n",
    "        probs = self.actor(states)\n",
    "        action_probs = paddle.take_along_axis(probs, actions, axis=1)\n",
    "        log_probs = paddle.log(action_probs + 1e-8)\n",
    "\n",
    "        loss = -paddle.mean(log_probs * A)\n",
    "\n",
    "        self.optimizer.clear_grad()\n",
    "        loss.backward()\n",
    "        self.optimizer.step()"
   ]
  },
  {
   "cell_type": "markdown",
   "metadata": {},
   "source": [
    "### 3.2 Baseline\n",
    "在上述版本2的Reinforce仍然存在高方差问题：所有奖励 $G_t≥0$，即使是差策略也可能被正向更新；这导致学习过程震荡、收敛速度慢、不稳定。\n",
    "\n",
    "版本3定义了**优势函数，引入基线b**。这里的基线b可以用批量平均回报，也可以设为固定常数。\n",
    "\n",
    "同时定义**优势函数 $A_t=G_t-b$**,用$A_t$来衡量动作的好坏。\n",
    "\n",
    "这将原始的“所有动作都奖励”的机制，转变为“相对优势驱动”，大幅度缓解了学习中的方差问题。其思想是：**“不是获得了多少奖励重要，而是相对于平均水平是否更好更重要。”**\n"
   ]
  },
  {
   "cell_type": "markdown",
   "metadata": {},
   "source": [
    "![](https://ai-studio-static-online.cdn.bcebos.com/6236cde8ad5b49989cf809065d599842ce8cc415f0b44f6eb35c99766240cae1)\n",
    "\n"
   ]
  },
  {
   "cell_type": "markdown",
   "metadata": {},
   "source": [
    "注意，请你补充完整`update()`函数"
   ]
  },
  {
   "cell_type": "code",
   "execution_count": 4,
   "metadata": {
    "execution": {
     "iopub.execute_input": "2025-06-13T07:33:51.033995Z",
     "iopub.status.busy": "2025-06-13T07:33:51.033585Z",
     "iopub.status.idle": "2025-06-13T07:33:51.043163Z",
     "shell.execute_reply": "2025-06-13T07:33:51.042551Z",
     "shell.execute_reply.started": "2025-06-13T07:33:51.033970Z"
    },
    "scrolled": true
   },
   "outputs": [],
   "source": [
    "class ReinforceWithBaseline:\n",
    "    def __init__(self, state_dim, hidden_dim, action_dim, actor_lr, critic_lr, gamma):\n",
    "        self.actor = PolicyNet(state_dim, hidden_dim, action_dim)\n",
    "        self.critic = ValueNet(state_dim, hidden_dim)  # 添加价值网络作为基线\n",
    "        self.actor_optimizer = paddle.optimizer.Adam(\n",
    "            parameters=self.actor.parameters(), learning_rate=actor_lr)\n",
    "        self.critic_optimizer = paddle.optimizer.Adam(\n",
    "            parameters=self.critic.parameters(), learning_rate=critic_lr)\n",
    "        self.gamma = gamma\n",
    "\n",
    "    def take_action(self, state):\n",
    "        state = paddle.to_tensor(np.array([state]), dtype='float32')\n",
    "        probs = self.actor(state)\n",
    "        action_dist = paddle.distribution.Categorical(probs)\n",
    "        action = action_dist.sample([1]).numpy()[0]\n",
    "        return action.item()\n",
    "\n",
    "    def update(self, transition_dict):\n",
    "        states = paddle.to_tensor(transition_dict['states'], dtype='float32')\n",
    "        actions = paddle.to_tensor(transition_dict['actions']).reshape((-1, 1))\n",
    "        rewards = transition_dict['rewards']\n",
    "        dones = transition_dict['dones']\n",
    "        \"\"\" \n",
    "        # TODO2:实现版本3的代码\n",
    "        # 1. 计算 At\n",
    "        # 2. 计算 Advantage\n",
    "        # 3. 计算 actor loss\n",
    "        # 4. 根据actor loss更新actor\n",
    "        \"\"\"\n",
    "        # 计算回报Rt\n",
    "        returns = []\n",
    "        R = 0\n",
    "        for r, d in zip(reversed(rewards), reversed(dones)):\n",
    "            if d:\n",
    "                R = 0\n",
    "            R = r + self.gamma * R\n",
    "            returns.insert(0, R)\n",
    "        returns = paddle.to_tensor(returns, dtype='float32').reshape((-1, 1))\n",
    "        \n",
    "        # 计算状态价值Vt\n",
    "        values = self.critic(states)\n",
    "        \n",
    "        # 计算优势函数At = Rt - Vt\n",
    "        advantages = returns - values\n",
    "        \n",
    "        # 计算策略梯度损失\n",
    "        probs = self.actor(states)\n",
    "        action_probs = paddle.gather(probs, axis=1, index=actions)\n",
    "        log_probs = paddle.log(action_probs)\n",
    "        actor_loss = paddle.mean(-log_probs * advantages.detach())\n",
    "        \n",
    "        # 计算价值网络损失\n",
    "        critic_loss = F.mse_loss(values, returns)\n",
    "        \n",
    "        # 更新策略网络\n",
    "        self.actor_optimizer.clear_grad()\n",
    "        actor_loss.backward()\n",
    "        self.actor_optimizer.step()\n",
    "        \n",
    "        # 更新价值网络\n",
    "        self.critic_optimizer.clear_grad()\n",
    "        critic_loss.backward()\n",
    "        self.critic_optimizer.step()\n",
    "\n"
   ]
  },
  {
   "cell_type": "markdown",
   "metadata": {},
   "source": [
    "### 3.3 Actor-Critic\n",
    "在版本3中，我们引入了一个静态或半静态的基线$b$来降低策略梯度估计的方差\n",
    "\n",
    "这种方法虽然有效，但存在几个缺点：\n",
    "\n",
    "不能区分不同状态下动作的好坏（仅基于全局平均）；\n",
    "\n",
    "当环境复杂或非平稳时，固定或全局基线无法自适应调整。\n",
    "\n",
    "Actor-Critic针对上述问题做出了改进，其核心思想就是使用**状态值函数$V(s_t)$作为基线 —— 引入“Critic”**"
   ]
  },
  {
   "cell_type": "markdown",
   "metadata": {},
   "source": [
    "#### 3.3.1  定义价值网络\n",
    "价值网络：两个全连接层，输出是维度是1，表示'价值'\n",
    "\n",
    "ValueNet 输入一个状态（state）的特征向量，输出该状态的价值估计（state value），即当前状态在未来能够获得的预期累计回报（Expected Return）"
   ]
  },
  {
   "cell_type": "code",
   "execution_count": 5,
   "metadata": {
    "execution": {
     "iopub.execute_input": "2025-06-13T07:33:53.132847Z",
     "iopub.status.busy": "2025-06-13T07:33:53.132454Z",
     "iopub.status.idle": "2025-06-13T07:33:53.136845Z",
     "shell.execute_reply": "2025-06-13T07:33:53.136265Z",
     "shell.execute_reply.started": "2025-06-13T07:33:53.132822Z"
    },
    "scrolled": true
   },
   "outputs": [],
   "source": [
    "class ValueNet(paddle.nn.Layer):\n",
    "    def __init__(self, state_dim, hidden_dim):\n",
    "        super(ValueNet, self).__init__()\n",
    "        self.fc1 = paddle.nn.Linear(state_dim, hidden_dim)\n",
    "        self.fc2 = paddle.nn.Linear(hidden_dim, 1)\n",
    "\n",
    "    def forward(self, x):\n",
    "        x = F.relu(self.fc1(x))\n",
    "        return self.fc2(x)"
   ]
  },
  {
   "cell_type": "markdown",
   "metadata": {},
   "source": [
    "#### 3.3.2 蒙特卡洛(mc)版本的实现\n",
    "在Actor-Critic中,**优势函数的计算方式和价值网络critic更新方式分为两种**，这里我们首先实现**蒙特卡洛**版本的。\n",
    "\n",
    "该方法直接使用**整条轨迹的实际回报**$G_t$来计算优势：$A_t=G_t-V(s_t)$;\n",
    "\n",
    "价值网络的的目标是尽可能拟合真实回报$G_t$,因此使用 均方误差（MSE）损失来训练：\n",
    "$$\n",
    "L(\\theta_v) = \\frac{1}{T} \\sum_{t=0}^{T-1} \\left( V(s_t; \\theta_v) - G_t \\right)^2\n",
    "$$"
   ]
  },
  {
   "cell_type": "markdown",
   "metadata": {},
   "source": [
    "![](https://ai-studio-static-online.cdn.bcebos.com/6fd939ab0a4f403197ef804192067aed0c8bda58787248f0a87cbd14322fde93)\n"
   ]
  },
  {
   "cell_type": "code",
   "execution_count": 6,
   "metadata": {
    "execution": {
     "iopub.execute_input": "2025-06-13T07:33:55.688213Z",
     "iopub.status.busy": "2025-06-13T07:33:55.687806Z",
     "iopub.status.idle": "2025-06-13T07:33:55.697212Z",
     "shell.execute_reply": "2025-06-13T07:33:55.696629Z",
     "shell.execute_reply.started": "2025-06-13T07:33:55.688189Z"
    },
    "scrolled": true
   },
   "outputs": [],
   "source": [
    "class ActorCriticWithMC:\n",
    "    def __init__(self, state_dim, hidden_dim, action_dim, actor_lr, critic_lr, gamma):\n",
    "        self.actor = PolicyNet(state_dim, hidden_dim, action_dim)\n",
    "        self.critic = ValueNet(state_dim, hidden_dim)\n",
    "        self.actor_optimizer = paddle.optimizer.Adam(\n",
    "            parameters=self.actor.parameters(), learning_rate=actor_lr)\n",
    "        self.critic_optimizer = paddle.optimizer.Adam(\n",
    "            parameters=self.critic.parameters(), learning_rate=critic_lr)\n",
    "        self.gamma = gamma\n",
    "\n",
    "    def take_action(self, state):\n",
    "        state = paddle.to_tensor(np.array([state]), dtype='float32')\n",
    "        probs = self.actor(state)\n",
    "        action_dist = paddle.distribution.Categorical(probs)\n",
    "        action = action_dist.sample([1]).numpy()[0]\n",
    "        return action.item()\n",
    "\n",
    "    def update(self, transition_dict):\n",
    "        states = paddle.to_tensor(transition_dict['states'], dtype='float32')\n",
    "        actions = paddle.to_tensor(transition_dict['actions']).reshape((-1, 1))\n",
    "        rewards = transition_dict['rewards']\n",
    "        dones = transition_dict['dones']\n",
    "\n",
    "        \"\"\" \n",
    "        # TODO3:实现版本3.5的代码\n",
    "        # 1. 计算折扣累计回报Gt\n",
    "        # 2. 使用 critic 网络估计当前状态价值 V(s)\n",
    "        # 3. 计算 advantage = Gt - V(s)\n",
    "        # 4. 策略网络输出动作概率，并选择对应动作的概率\n",
    "        # 5. 计算 actor loss\n",
    "        # 6. 计算 critic loss\n",
    "        # 7. 清空梯度，反向传播并更新 actor 和 critic 网络\n",
    "        \"\"\"\n",
    "        # 1. 计算折扣累计回报Gt\n",
    "        returns = []\n",
    "        G = 0\n",
    "        for r, d in zip(reversed(rewards), reversed(dones)):\n",
    "            if d:\n",
    "                G = 0\n",
    "            G = r + self.gamma * G\n",
    "            returns.insert(0, G)\n",
    "        returns = paddle.to_tensor(returns, dtype='float32').reshape((-1, 1))\n",
    "\n",
    "        # 2. 使用critic网络估计当前状态价值V(s)\n",
    "        values = self.critic(states)\n",
    "\n",
    "        # 3. 计算advantage = Gt - V(s)\n",
    "        advantages = returns - values\n",
    "\n",
    "        # 4. 策略网络输出动作概率，并选择对应动作的概率\n",
    "        probs = self.actor(states)\n",
    "        action_probs = paddle.gather(probs, axis=1, index=actions)\n",
    "        log_probs = paddle.log(action_probs)\n",
    "\n",
    "        # 5. 计算actor loss\n",
    "        actor_loss = paddle.mean(-log_probs * advantages.detach())\n",
    "\n",
    "        # 6. 计算critic loss\n",
    "        critic_loss = F.mse_loss(values, returns)\n",
    "\n",
    "        # 7. 清空梯度，反向传播并更新actor和critic网络\n",
    "        self.actor_optimizer.clear_grad()\n",
    "        actor_loss.backward()\n",
    "        self.actor_optimizer.step()\n",
    "\n",
    "        self.critic_optimizer.clear_grad()\n",
    "        critic_loss.backward()\n",
    "        self.critic_optimizer.step()"
   ]
  },
  {
   "cell_type": "markdown",
   "metadata": {},
   "source": [
    "#### 3.3.3 时序差分(TD)版本的实现\n",
    "\n",
    "不同于mc的方法需要等到整条轨迹结束后才计算出回报，td的核心思想是“边走边改”，用**当前估计的下一状态价值**$V(s_t+1)$来替代**未来**(下一个状态到结束状态的轨迹)的实际回报\n",
    "\n",
    "该方法使用**bootstrap（引导）估计**未来回报计算优势函数：\n",
    "$$\n",
    "A_t = r_t + \\gamma V(s_{t+1}; \\theta_v) - V(s_t; \\theta_v)\n",
    "$$\n",
    "\n",
    "我们希望价值函数 $V(s_t; \\theta_v)$ **逼近一步TD目标** $r_t + \\gamma V(s_{t+1}; \\theta_v)$，因此可以用以下**均方误差损失函数**来训练 Critic（价值网络）：\n",
    "\n",
    "$$\n",
    "L(\\theta_v) = \\frac{1}{T} \\sum_{t=0}^{T-1} \\left( V(s_t; \\theta_v) - \\left( r_t + \\gamma V(s_{t+1}; \\theta_v) \\right) \\right)^2\n",
    "$$"
   ]
  },
  {
   "cell_type": "markdown",
   "metadata": {},
   "source": [
    "![](https://ai-studio-static-online.cdn.bcebos.com/4d40cb0f66624096b8542270a33a8fccd924ee71745e4ec394a684fbfcc2da79)\n"
   ]
  },
  {
   "cell_type": "code",
   "execution_count": 7,
   "metadata": {
    "execution": {
     "iopub.execute_input": "2025-06-13T07:33:58.699497Z",
     "iopub.status.busy": "2025-06-13T07:33:58.699113Z",
     "iopub.status.idle": "2025-06-13T07:33:58.708530Z",
     "shell.execute_reply": "2025-06-13T07:33:58.707891Z",
     "shell.execute_reply.started": "2025-06-13T07:33:58.699475Z"
    },
    "scrolled": true
   },
   "outputs": [],
   "source": [
    "class ActorCriticWithTD:\n",
    "    def __init__(self, state_dim, hidden_dim, action_dim, actor_lr, critic_lr, gamma):\n",
    "        self.actor = PolicyNet(state_dim, hidden_dim, action_dim)\n",
    "        self.critic = ValueNet(state_dim, hidden_dim)\n",
    "        self.actor_optimizer = paddle.optimizer.Adam(\n",
    "            parameters=self.actor.parameters(), learning_rate=actor_lr)\n",
    "        self.critic_optimizer = paddle.optimizer.Adam(\n",
    "            parameters=self.critic.parameters(), learning_rate=critic_lr)\n",
    "        self.gamma = gamma\n",
    "\n",
    "    def take_action(self, state):\n",
    "        state = paddle.to_tensor(np.array([state]), dtype='float32')\n",
    "        probs = self.actor(state)\n",
    "        action_dist = paddle.distribution.Categorical(probs)\n",
    "        action = action_dist.sample([1]).numpy()[0]\n",
    "        return action.item()\n",
    "\n",
    "    def update(self, transition_dict):\n",
    "        states = paddle.to_tensor(transition_dict['states'], dtype='float32')\n",
    "        actions = paddle.to_tensor(transition_dict['actions']).reshape((-1, 1))\n",
    "        rewards = paddle.to_tensor(transition_dict['rewards'], dtype='float32').reshape((-1, 1))\n",
    "        next_states = paddle.to_tensor(transition_dict['next_states'], dtype='float32')\n",
    "        \n",
    "        \"\"\" \n",
    "        # TODO4:实现版本4的代码\n",
    "        # 1. 判断 episode 是否结束,done=1 时未来价值不计入\n",
    "        # 2. 计算 TD target：r + γ * V(s') * (1 - done)\n",
    "        # 3. 计算 TD delta：δ = TD target - V(s)\n",
    "        # 4. 计算策略网络输出的动作概率 probs，并选中 actions 对应的概率\n",
    "        # 5. 计算 actor loss\n",
    "        # 6. 计算 critic loss\n",
    "        # 7. 清空梯度，反向传播，更新 actor 与 critic\n",
    "        \"\"\"\n",
    "        dones = paddle.to_tensor(transition_dict['dones'], dtype='float32').reshape((-1, 1))\n",
    "        \n",
    "        # 1. 判断episode是否结束，done=1时未来价值不计入\n",
    "        # 已在输入参数中处理，dones为0/1张量\n",
    "        \n",
    "        # 2. 计算TD target：r + γ * V(s') * (1 - done)\n",
    "        next_values = self.critic(next_states)\n",
    "        td_targets = rewards + self.gamma * next_values * (1 - dones)\n",
    "        \n",
    "        # 3. 计算TD delta：δ = TD target - V(s)\n",
    "        values = self.critic(states)\n",
    "        td_deltas = td_targets - values\n",
    "        \n",
    "        # 4. 计算策略网络输出的动作概率probs，并选中actions对应的概率\n",
    "        probs = self.actor(states)\n",
    "        action_probs = paddle.gather(probs, axis=1, index=actions)\n",
    "        log_probs = paddle.log(action_probs)\n",
    "        \n",
    "        # 5. 计算actor loss\n",
    "        actor_loss = paddle.mean(-log_probs * td_deltas.detach())\n",
    "        \n",
    "        # 6. 计算critic loss\n",
    "        critic_loss = F.mse_loss(values, td_targets)\n",
    "        \n",
    "        # 7. 清空梯度，反向传播，更新actor与critic\n",
    "        self.actor_optimizer.clear_grad()\n",
    "        actor_loss.backward()\n",
    "        self.actor_optimizer.step()\n",
    "        \n",
    "        self.critic_optimizer.clear_grad()\n",
    "        critic_loss.backward()\n",
    "        self.critic_optimizer.step()\n"
   ]
  },
  {
   "cell_type": "markdown",
   "metadata": {},
   "source": [
    "### 3.4 PPO\n",
    "我们在之前介绍了基于策略的强化学习算法REINFORCE,基于价值和策略的组合算法Actor-Critic. \n",
    "\n",
    "对于基于策略分方法：参数化智能体的策略，并设计衡量策略好坏的目标函数，通过梯度上升的方法来最大化这个目标函数，使得策略最优。\n",
    "\n",
    "但是这种算法有一个明显的缺点：当策略网络是深度模型时，沿着策略梯度更新参数，很有可能由于步长太长，策略突然显著变差，进而影响训练效果。\n",
    "\n",
    "一种有效的解决方法是信任区域策略优化(trust region policy optimization，TRPO);然而TRPO的计算过程非常复杂，每一步更新的运算量非常大，进而其改进版算法PPO被提出。\n",
    "\n",
    "主流的PPO有两种，PPO-Penalty和PPO-Clip，但大量的实验表明PPO-Clip要更优秀一些，因此本项目采用PPO-Clip方法。\n",
    "\n",
    "#### PPO算法\n",
    "在讲解PPO算法前，我们需要明白On/Off policy的概念：\n",
    "\n",
    "**On-policy**：用当前的Agent生成经验，并且用于更新这个Agent。即Agent一边和环境互动，一边学习\n",
    "\n",
    "**Off-policy**：用其他的Agent生成经验，用于更新当前Agent。即Agent是学习其他的Agent的互动经验\n",
    "\n",
    "On-policy它的缺点就是每次更新都需要等Agent环境做互动，更新完之后，前一次互动经验又不能用了。这导致了算法训练很耗时，时间都花在收集数据上。所以我们如果能将其变成Off-policy的算法，那之前互动的数据可以重复使用，大大提升了训练效率。"
   ]
  },
  {
   "cell_type": "markdown",
   "metadata": {},
   "source": [
    "![](https://ai-studio-static-online.cdn.bcebos.com/6a0bb7806d23405092fc06586ba0ef448d2a4c7ebf5d4f99a2a8499d2558e58d)\n"
   ]
  },
  {
   "cell_type": "markdown",
   "metadata": {},
   "source": [
    "PPO算法也用到了两个网络：策略网络,价值网络(actor-critic)。交互的策略由我们的策略网络直接生成。PPO是on-policy还是off-policy，这里存在着一定的争议。\n",
    "\n",
    "关于更多的一些细节，大家可以阅读这篇博客：https://blog.csdn.net/weixin_42392454/article/details/140641453\n",
    "\n",
    "这里我们给出了ppo-clip的大部分实现，大家只需要按提示完成一小部分代码即可。"
   ]
  },
  {
   "cell_type": "code",
   "execution_count": 8,
   "metadata": {
    "execution": {
     "iopub.execute_input": "2025-06-13T07:34:01.837031Z",
     "iopub.status.busy": "2025-06-13T07:34:01.835351Z",
     "iopub.status.idle": "2025-06-13T07:34:01.849623Z",
     "shell.execute_reply": "2025-06-13T07:34:01.849006Z",
     "shell.execute_reply.started": "2025-06-13T07:34:01.836988Z"
    },
    "scrolled": true,
    "tags": []
   },
   "outputs": [],
   "source": [
    "class PPO:\n",
    "    def __init__(self, state_dim, hidden_dim, action_dim, actor_lr, critic_lr, lmbda, epochs, eps, gamma):\n",
    "        self.actor = PolicyNet(state_dim, hidden_dim, action_dim)\n",
    "        self.critic = ValueNet(state_dim, hidden_dim)\n",
    "        self.actor_optimizer = paddle.optimizer.Adam(parameters=self.actor.parameters(),\n",
    "                                                     learning_rate=actor_lr)\n",
    "        self.critic_optimizer = paddle.optimizer.Adam(parameters=self.critic.parameters(),\n",
    "                                                      learning_rate=critic_lr)\n",
    "        self.gamma = gamma\n",
    "        self.lmbda = lmbda\n",
    "        self.epochs = epochs\n",
    "        self.eps = eps\n",
    "\n",
    "    def take_action(self, state):\n",
    "        state = paddle.to_tensor(np.array([state]), dtype='float32')\n",
    "        probs = self.actor(state)\n",
    "        action_dist = paddle.distribution.Categorical(probs)\n",
    "        action = action_dist.sample([1]).numpy()[0]\n",
    "        return action.item()\n",
    "\n",
    "    def compute_advantage(self,gamma, lmbda, td_delta):\n",
    "        td_delta = td_delta.detach().numpy()\n",
    "        advantage_list = []\n",
    "        advantage = 0.0\n",
    "        for delta in td_delta[::-1]:\n",
    "            advantage = gamma * lmbda * advantage + delta\n",
    "            advantage_list.append(advantage)\n",
    "        advantage_list.reverse()\n",
    "        advantage = paddle.to_tensor(advantage_list, dtype='float32')\n",
    "        return advantage\n",
    "\n",
    "    def update(self, transition_dict):\n",
    "        states = paddle.to_tensor(transition_dict['states'], dtype='float32')\n",
    "        actions = paddle.to_tensor(transition_dict['actions']).reshape([-1, 1])\n",
    "        rewards = paddle.to_tensor(transition_dict['rewards'], dtype='float32').reshape([-1, 1])\n",
    "        next_states = paddle.to_tensor(transition_dict['next_states'], dtype='float32')\n",
    "        dones = paddle.to_tensor(transition_dict['dones'], dtype='float32').reshape([-1, 1])\n",
    "\n",
    "        \"\"\"\n",
    "        # TODO5:实现ppo的部分代码\n",
    "        # 1. 计算 TD target：r + γ * V(s') * (1 - done)\n",
    "        # 2. 计算 TD delta：δ = TD target - V(s)\n",
    "        # 3. 调用 compute_advantage 函数计算advantage\n",
    "        \"\"\"\n",
    "        # 1. 计算 TD target：r + γ * V(s') * (1 - done)\n",
    "        next_values = self.critic(next_states)\n",
    "        td_target = rewards + self.gamma * next_values * (1 - dones)\n",
    "        \n",
    "        # 2. 计算 TD delta：δ = TD target - V(s)\n",
    "        values = self.critic(states)\n",
    "        td_delta = td_target - values\n",
    "        \n",
    "        # 3. 调用 compute_advantage 函数计算advantage\n",
    "        advantage = self.compute_advantage(self.gamma, self.lmbda, td_delta)\n",
    "        probs = self.actor(states)\n",
    "        old_log_probs = paddle.log(paddle.take_along_axis(probs, actions, axis=1) + 1e-8).detach()\n",
    "\n",
    "        for _ in range(self.epochs):\n",
    "            probs = self.actor(states)\n",
    "           \n",
    "            log_probs = paddle.log(paddle.take_along_axis(probs, actions, axis=1) + 1e-8)\n",
    "            ratio = paddle.exp(log_probs - old_log_probs)\n",
    "\n",
    "            surr1 = ratio * advantage\n",
    "            surr2 = paddle.clip(ratio, 1 - self.eps, 1 + self.eps) * advantage\n",
    "            \n",
    "            actor_loss = paddle.mean(-paddle.minimum(surr1, surr2))\n",
    "            \n",
    "            \"\"\"\n",
    "            # TODO6:实现ppo的部分代码\n",
    "            # 1. 用均方误差计算critic_loss\n",
    "            \"\"\"\n",
    "            critic_loss=F.mse_loss(values, td_target)\n",
    "\n",
    "            self.actor_optimizer.clear_grad()\n",
    "            actor_loss.backward()\n",
    "            self.actor_optimizer.step()\n",
    "            self.critic_optimizer.clear_grad()\n",
    "            critic_loss.backward(retain_graph=True)\n",
    "            self.critic_optimizer.step()"
   ]
  },
  {
   "cell_type": "markdown",
   "metadata": {},
   "source": [
    "### 3.5 自定义实现\n",
    "\n",
    "下面是我们已经搭建好的一个框架，你可以根据Cartpole-v1的任务，实现一个自己的Agent算法。\n",
    "\n",
    "当然，你可以在上述已有的算法框架上进行任何的改进，将这些改进实现到自己的Agent中。注意，**你可以任意修改已有函数的具体实现，但是不能修改已有的函数名以及参数**。当然，你也可以定义自己的策略网络和价值网络，定义一些新的辅助函数!!!"
   ]
  },
  {
   "cell_type": "code",
   "execution_count": 9,
   "metadata": {
    "execution": {
     "iopub.execute_input": "2025-06-13T07:34:04.123798Z",
     "iopub.status.busy": "2025-06-13T07:34:04.123405Z",
     "iopub.status.idle": "2025-06-13T07:34:04.136022Z",
     "shell.execute_reply": "2025-06-13T07:34:04.135467Z",
     "shell.execute_reply.started": "2025-06-13T07:34:04.123775Z"
    },
    "scrolled": true
   },
   "outputs": [],
   "source": [
    "        \n",
    "\"\"\"\n",
    "#TODO7:实现你的强化学习算法\n",
    "\"\"\"\n",
    "class MyAgent:\n",
    "    def __init__(self, state_dim, action_dim):\n",
    "        \"\"\"\n",
    "        初始化强化学习方法\n",
    "        默认超参数设置:\n",
    "            hidden_dim = 128 \n",
    "            actor_lr = 1e-3\n",
    "            critic_lr = 1e-2\n",
    "            gamma = 0.98\n",
    "            lmbda = 0.95 (GAE参数)\n",
    "            epochs = 10 (每个批次数据的更新次数)\n",
    "            eps = 0.2 (PPO裁剪参数)\n",
    "        \"\"\"\n",
    "        hidden_dim = 128 \n",
    "        actor_lr = 1e-3\n",
    "        critic_lr = 1e-2\n",
    "        gamma = 0.98\n",
    "        lmbda = 0.95\n",
    "        epochs = 10\n",
    "        eps = 0.2\n",
    "        \n",
    "        self.actor = PolicyNet(state_dim, hidden_dim, action_dim)\n",
    "        self.critic = ValueNet(state_dim, hidden_dim)\n",
    "        \n",
    "        self.actor_optimizer = paddle.optimizer.Adam(\n",
    "            parameters=self.actor.parameters(), \n",
    "            learning_rate=actor_lr\n",
    "        )\n",
    "        self.critic_optimizer = paddle.optimizer.Adam(\n",
    "            parameters=self.critic.parameters(),\n",
    "            learning_rate=critic_lr\n",
    "        )\n",
    "        \n",
    "        self.gamma = gamma\n",
    "        self.lmbda = lmbda\n",
    "        self.epochs = epochs\n",
    "        self.eps = eps\n",
    "\n",
    "    def take_action(self, state):\n",
    "        state = paddle.to_tensor(np.array([state]), dtype='float32')\n",
    "        probs = self.actor(state)\n",
    "        action_dist = paddle.distribution.Categorical(probs)\n",
    "        action = action_dist.sample([1]).numpy()[0]\n",
    "        return action.item()\n",
    "\n",
    "    def compute_advantage(self, gamma, lmbda, td_delta):\n",
    "        \"\"\"计算广义优势估计(GAE)\"\"\"\n",
    "        td_delta = td_delta.detach().numpy()\n",
    "        advantage_list = []\n",
    "        advantage = 0.0\n",
    "        for delta in td_delta[::-1]:\n",
    "            advantage = gamma * lmbda * advantage + delta\n",
    "            advantage_list.append(advantage)\n",
    "        advantage_list.reverse()\n",
    "        advantage = paddle.to_tensor(advantage_list, dtype='float32')\n",
    "        return advantage\n",
    "\n",
    "    def update(self, transition_dict):\n",
    "        states = paddle.to_tensor(transition_dict['states'], dtype='float32')\n",
    "        actions = paddle.to_tensor(transition_dict['actions']).reshape((-1, 1))\n",
    "        rewards = paddle.to_tensor(transition_dict['rewards'], dtype='float32').reshape((-1, 1))\n",
    "        next_states = paddle.to_tensor(transition_dict['next_states'], dtype='float32')\n",
    "        dones = paddle.to_tensor(transition_dict['dones'], dtype='float32').reshape((-1, 1))\n",
    "        \n",
    "        # 计算TD目标和TD误差\n",
    "        next_values = self.critic(next_states)\n",
    "        td_target = rewards + self.gamma * next_values * (1 - dones)\n",
    "        values = self.critic(states)\n",
    "        td_delta = td_target - values\n",
    "        \n",
    "        # 计算广义优势估计(GAE)\n",
    "        advantage = self.compute_advantage(self.gamma, self.lmbda, td_delta)\n",
    "        \n",
    "        # 保存旧策略的动作概率\n",
    "        probs = self.actor(states)\n",
    "        old_log_probs = paddle.log(paddle.take_along_axis(probs, actions, axis=1) + 1e-8).detach()\n",
    "        \n",
    "        # 多次更新策略和价值网络\n",
    "        for _ in range(self.epochs):\n",
    "            probs = self.actor(states)\n",
    "            log_probs = paddle.log(paddle.take_along_axis(probs, actions, axis=1) + 1e-8)\n",
    "            ratio = paddle.exp(log_probs - old_log_probs)\n",
    "            \n",
    "            # PPO裁剪目标函数\n",
    "            surr1 = ratio * advantage\n",
    "            surr2 = paddle.clip(ratio, 1 - self.eps, 1 + self.eps) * advantage\n",
    "            actor_loss = paddle.mean(-paddle.minimum(surr1, surr2))\n",
    "            \n",
    "            # 价值网络损失\n",
    "            critic_loss = F.mse_loss(values, td_target)\n",
    "            \n",
    "            # 更新网络参数\n",
    "            self.actor_optimizer.clear_grad()\n",
    "            self.critic_optimizer.clear_grad()\n",
    "            actor_loss.backward()\n",
    "            critic_loss.backward()\n",
    "            self.actor_optimizer.step()\n",
    "            self.critic_optimizer.step()\n"
   ]
  },
  {
   "cell_type": "markdown",
   "metadata": {},
   "source": [
    "## 4.Agent训练\n",
    "\n",
    "在实现agent以后，我们就可以开始训练了。训练流程的核心是：\n",
    "\n",
    "**Agent在环境中采样轨迹数据（状态、动作、奖励、下一状态等），然后利用这些数据计算策略梯度或价值函数误差，反向优化神经网络参数，提升策略性能。**\n",
    "\n",
    "这里我们已经定义好了相关的参数和环境，大家只需要在调用`train_on_policy_agent()`函数时传入自己想训练的agent即可。\n"
   ]
  },
  {
   "cell_type": "code",
   "execution_count": 40,
   "metadata": {
    "execution": {
     "iopub.execute_input": "2025-06-13T07:50:50.962945Z",
     "iopub.status.busy": "2025-06-13T07:50:50.962626Z",
     "iopub.status.idle": "2025-06-13T07:50:57.192776Z",
     "shell.execute_reply": "2025-06-13T07:50:57.192212Z",
     "shell.execute_reply.started": "2025-06-13T07:50:50.962924Z"
    },
    "scrolled": true,
    "tags": []
   },
   "outputs": [
    {
     "name": "stderr",
     "output_type": "stream",
     "text": [
      "Iteration 0: 100%|██████████| 100/100 [00:00<00:00, 213.42it/s, episode=100, return=14.700]\r\n",
      "Iteration 1: 100%|██████████| 100/100 [00:00<00:00, 230.99it/s, episode=200, return=14.500]\r\n",
      "Iteration 2: 100%|██████████| 100/100 [00:00<00:00, 239.49it/s, episode=300, return=17.200]\r\n",
      "Iteration 3: 100%|██████████| 100/100 [00:00<00:00, 242.20it/s, episode=400, return=14.900]\r\n",
      "Iteration 4: 100%|██████████| 100/100 [00:00<00:00, 234.44it/s, episode=500, return=15.700]\r\n",
      "Iteration 5: 100%|██████████| 100/100 [00:00<00:00, 196.11it/s, episode=600, return=26.300]\r\n",
      "Iteration 6: 100%|██████████| 100/100 [00:00<00:00, 158.01it/s, episode=700, return=27.800]\r\n",
      "Iteration 7: 100%|██████████| 100/100 [00:00<00:00, 127.33it/s, episode=800, return=34.900]\r\n",
      "Iteration 8: 100%|██████████| 100/100 [00:00<00:00, 102.32it/s, episode=900, return=44.700]\r\n",
      "Iteration 9: 100%|██████████| 100/100 [00:01<00:00, 88.24it/s, episode=1000, return=66.900]\r\n"
     ]
    }
   ],
   "source": [
    "# actor_lr = 1e-3 #策略网络的学习率\n",
    "# critic_lr = 1e-2 #价值网络的学习率\n",
    "# num_episodes = 10000 # 训练的episode\n",
    "# hidden_dim = 256 #网络隐藏层\n",
    "# gamma = 0.99 # 折扣因子\n",
    "# lmbda = 0.95 # 优势计算中的参数\n",
    "# epochs = 10  #每次更新时ppo的更新次数\n",
    "# eps = 0.5 # PPO中截断范围的参数\n",
    "actor_lr = 1e-3 #策略网络的学习率\n",
    "critic_lr = 1e-2 #价值网络的学习率\n",
    "num_episodes = 1000 # 训练的episode\n",
    "hidden_dim = 256 #网络隐藏层\n",
    "gamma = 0.98 # 折扣因子\n",
    "lmbda = 0.95 # 优势计算中的参数\n",
    "epochs = 10  #每次更新时ppo的更新次数\n",
    "eps = 0.5 # PPO中截断范围的参数\n",
    "\n",
    "env_name = 'CartPole-v1'\n",
    "env = gym.make(env_name)\n",
    "state_dim = env.observation_space.shape[0]\n",
    "action_dim = env.action_space.n\n",
    "\n",
    "def train_on_policy_agent(env, agent, num_episodes, episodes_per_update=1):\n",
    "    return_list = []\n",
    "    all_transitions = []\n",
    "\n",
    "    for i in range(10):\n",
    "        with tqdm(total=int(num_episodes / 10), desc=f'Iteration {i}') as pbar:\n",
    "            for i_episode in range(int(num_episodes / 10)):\n",
    "                episode_return = 0\n",
    "                transition_dict = {'states': [], 'actions': [], 'next_states': [], 'rewards': [], 'dones': []}\n",
    "                state= env.reset()\n",
    "                done = False\n",
    "\n",
    "                while not done:\n",
    "                    with paddle.no_grad():  \n",
    "                        action = agent.take_action(state)\n",
    "                    next_state, reward, done, _ = env.step(action)\n",
    "                \n",
    "                    transition_dict['states'].append(state)\n",
    "                    transition_dict['actions'].append(action)\n",
    "                    transition_dict['next_states'].append(next_state)\n",
    "                    transition_dict['rewards'].append(reward)\n",
    "                    transition_dict['dones'].append(done)\n",
    "\n",
    "                    state = next_state\n",
    "                    episode_return += reward\n",
    "\n",
    "                all_transitions.append(transition_dict)\n",
    "\n",
    "                return_list.append(episode_return)\n",
    "\n",
    "                if (i_episode + 1) % episodes_per_update == 0:\n",
    "                    batch_transition = {\n",
    "                        'states': [],\n",
    "                        'actions': [],\n",
    "                        'next_states': [],\n",
    "                        'rewards': [],\n",
    "                        'dones': []\n",
    "                    }\n",
    "                    for ep_trans in all_transitions:\n",
    "                        for k in batch_transition.keys():\n",
    "                            batch_transition[k] += ep_trans[k]\n",
    "                    agent.update(batch_transition)\n",
    "                    all_transitions.clear()\n",
    "\n",
    "                if (i_episode + 1) % 10 == 0:\n",
    "                    pbar.set_postfix({'episode': '%d' % (num_episodes / 10 * i + i_episode + 1),\n",
    "                                      'return': '%.3f' % np.mean(return_list[-10:])})\n",
    "                pbar.update(1)\n",
    "    return return_list,agent\n",
    "\n",
    "reinforce = Reinforce(state_dim, hidden_dim, action_dim, actor_lr, gamma,version=2)\n",
    "baseline = ReinforceWithBaseline(state_dim, hidden_dim, action_dim, actor_lr, critic_lr, gamma)\n",
    "ac_agent_mc = ActorCriticWithMC(state_dim, hidden_dim, action_dim, actor_lr, critic_lr, gamma)\n",
    "ac_agent_td = ActorCriticWithTD(state_dim, hidden_dim, action_dim, actor_lr, critic_lr, gamma)\n",
    "ppo_agent = PPO(state_dim, hidden_dim, action_dim, actor_lr, critic_lr, lmbda,epochs, eps, gamma)\n",
    "\n",
    "'''\n",
    "填写你想要测试的算法\n",
    "e.g:return_list,agent = train_on_policy_agent(env, ppo_agent , num_episodes)\n",
    "'''\n",
    "# return_list,agent=train_on_policy_agent(env, reinforce, num_episodes)\n",
    "# return_list,agent=train_on_policy_agent(env, baseline, num_episodes)\n",
    "return_list,agent=train_on_policy_agent(env, ac_agent_mc, num_episodes)\n",
    "# return_list,agent=train_on_policy_agent(env, ac_agent_td, num_episodes)\n",
    "# return_list,agent=train_on_policy_agent(env, ppo_agent, num_episodes)"
   ]
  },
  {
   "cell_type": "markdown",
   "metadata": {},
   "source": [
    "### 5.训练结果的平滑与可视化\n",
    "\n",
    "强化学习训练过程中，单个episode的回报（return）往往波动较大，直接绘制曲线可能看不到整体趋势。为了更清晰地观察智能体性能的变化，我们常用\n",
    "**移动平均**技术对回报序列进行平滑处理。\n",
    "\n",
    "大家可以根据可视化的曲线结果，对比思考一下不同方法之间出现差异的原因。"
   ]
  },
  {
   "cell_type": "code",
   "execution_count": 37,
   "metadata": {
    "execution": {
     "iopub.execute_input": "2025-06-13T07:49:09.686890Z",
     "iopub.status.busy": "2025-06-13T07:49:09.686485Z",
     "iopub.status.idle": "2025-06-13T07:49:09.853097Z",
     "shell.execute_reply": "2025-06-13T07:49:09.852559Z",
     "shell.execute_reply.started": "2025-06-13T07:49:09.686868Z"
    },
    "scrolled": true,
    "tags": []
   },
   "outputs": [
    {
     "data": {
      "image/png": "[encoded data removed]",
      "text/plain": [
       "<Figure size 640x480 with 1 Axes>"
      ]
     },
     "metadata": {},
     "output_type": "display_data"
    }
   ],
   "source": [
    "def moving_average(a, window_size):\n",
    "    cumulative_sum = np.cumsum(np.insert(a, 0, 0)) \n",
    "    middle = (cumulative_sum[window_size:] - cumulative_sum[:-window_size]) / window_size\n",
    "    r = np.arange(1, window_size-1, 2)\n",
    "    begin = np.cumsum(a[:window_size-1])[::2] / r\n",
    "    end = (np.cumsum(a[:-window_size:-1])[::2] / r)[::-1]\n",
    "    return np.concatenate((begin, middle, end))\n",
    "\n",
    "episodes_list = list(range(len(return_list)))\n",
    "mv_return = moving_average(return_list, 19)\n",
    "model_name = agent.__class__.__name__ \n",
    "plt.plot(episodes_list, mv_return)\n",
    "plt.xlabel('Episodes')\n",
    "plt.ylabel('Returns')\n",
    "plt.title(f'{model_name} on {env_name}')\n",
    "plt.show()"
   ]
  },
  {
   "cell_type": "code",
   "execution_count": null,
   "metadata": {
    "scrolled": true
   },
   "outputs": [],
   "source": []
  }
 ],
 "metadata": {
  "kernelspec": {
   "display_name": "Python 3",
   "language": "python",
   "name": "py35-paddle1.2.0"
  },
  "language_info": {
   "codemirror_mode": {
    "name": "ipython",
    "version": 3
   },
   "file_extension": ".py",
   "mimetype": "text/x-python",
   "name": "python",
   "nbconvert_exporter": "python",
   "pygments_lexer": "ipython3",
   "version": "3.7.4"
  }
 },
 "nbformat": 4,
 "nbformat_minor": 4
}
